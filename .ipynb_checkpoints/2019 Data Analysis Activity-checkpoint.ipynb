{
 "cells": [
  {
   "cell_type": "markdown",
   "metadata": {},
   "source": [
    "# Shake Table Data Analysis Tools\n",
    "\n",
    "This notebook provides some basic code you can run to help your group visualize the shake table data.\n",
    "\n",
    "A shake table is a device for shaking scaled slopes, structural models or building components with a wide range of simulated ground motions, including reproductions of recorded earthquakes time-histories.\n",
    "\n",
    "We will use the Loma Prieta Earthquake time-history data set to work through the code in this notebook together."
   ]
  },
  {
   "cell_type": "markdown",
   "metadata": {},
   "source": [
    "# <span style=\"color:dimgray\"> Equipping Tools</span>\n",
    "\n",
    "The Jupyter notebooks we create come equipped with the basic commands and functions of the Python coding language. \n",
    "\n",
    "But, we want to be able to do more sophisticated data manipulation and graphing within our notebook, so we will have to upgrade it with *packages*.  These packages will give us more tools to work with when we analyze our data.  It's like we started with a basic four function calculator and need to upgrade it to a graphing calculator.\n",
    "\n",
    "There are over 100,000 packages for Python listed on PyPI (Python Package Index).  We'll only be using 3:\n",
    "\n",
    "**NumPY**\n",
    "A coding package for scientific computing and working with arrays.\n",
    "\n",
    "**MatPlotLib**\n",
    "A plotting library for Python and the NumPy extension.\n",
    "\n",
    "**Pandas**\n",
    "A package providing fast and flexible data structures, making it easier to work with data.\n",
    "\n",
    "## <span style=\"color:dimgray\"> To Run a Code Cell</span>\n",
    "\n",
    "## press <span style=\"color:firebrick\"> 'shift' + 'enter'</span>\n",
    "\n",
    "***"
   ]
  },
  {
   "cell_type": "code",
   "execution_count": 1,
   "metadata": {},
   "outputs": [],
   "source": [
    "# CODE CELL 1\n",
    "\n",
    "# This is a 'Code' Cell.\n",
    "# This green text is called documentation.  \n",
    "# Documentation is not code, but is important to coding\n",
    "# It is text used to describe code, making it easier to understand and use.\n",
    "# All documentation is preceded by a '#' character.  Python ignores any text in line after a '#'\n",
    "\n",
    "# You run a code cell in a Jupyter Notbeook by selecting the cell and pressing 'shift' + 'enter'\n",
    "\n",
    "# Type in the code from your worksheet below:\n",
    "\n"
   ]
  },
  {
   "cell_type": "markdown",
   "metadata": {},
   "source": [
    "# <span style=\"color:steelblue\"> Importing Data From CSV</span>\n",
    "\n",
    "## <span style=\"color:dimgray\"> Vocabulary</span>\n",
    "\n",
    "**Data Frame**\n",
    "This is a tool to organize data, like a spreadsheet.  \n",
    "    \n",
    "Each column is a set of data called a *series*.  A *series* is a one-dimensional array that contains one type of data.\n",
    "    \n",
    "The data we will collect will have 5 series (columns) and 1 *index*.  One of our *series* holds strings for the name of the sensor.  The other 4 *series* will hold the time data, and the acceleration data for the x, y, and z directions.  \n",
    "    \n",
    "The rows of the data frame are indexed with 0, 1, 2, 3, ... An *index* is a reference we will use to mark one instance of data collection. In the example below, index 0 (or row 0) holds the first instance of data collected by the alpha sensor. Index 1 holds the first instance of data collected by the bravo sensor, etc.\n",
    "   \n",
    "|    |ClientId| ms  | x  | y  | z |\n",
    "\n",
    "| ---|---|---|----|----|----|\n",
    "\n",
    "|0  | alpha  |  1 | 0.386719 | -0.068359 | 0.960938\n",
    "\n",
    "|1  | bravo  |  1 | -0.273438| 0.222656| 0.810547\n",
    "\n",
    "|2  | alpha  |  5 | -0.003906| 0.222656 | 1.115234\n",
    "\n",
    "|3  | bravo  |  5 | 0.441406 | -0.156250| 1.007812    \n",
    "  \n",
    "***\n",
    "\t\t\n",
    "        \n",
    "**CSV File**\n",
    "CSV stands for comma-separated value.  \n",
    "    \n",
    "It is a simple file type that saves tabular data, like from a spreadsheet or database.  The data we collect will be saved in a csv file.\n"
   ]
  },
  {
   "cell_type": "markdown",
   "metadata": {},
   "source": [
    "### <span style=\"color:royalblue\"> Coding Key</span>\n",
    "\n",
    "**`data_frame_name`**\n",
    "\n",
    "This is what you would like to call the data frame for later use in the code.  Use something descriptive.  Do not start the name with a number, coding languages don't like that.  You can abbreviate, but make sure you will be able to recognize it later.  \n",
    "\n",
    "***\n",
    "      \n",
    "**`file_pathway`** \n",
    "  \n",
    "This is where the csv files is located and how the code will find the data file. \n",
    "\n",
    "If the data is from a website, the file_pathway will be the URL.\n",
    "\n",
    "If the data file is in the same directory (folder) as your Jupyter Notebook, the file_pathway is just the file's name. Don't forget the '.csv' \n",
    "\n",
    "Otherwise, you have to find the directory. For example, let's say your Jupyter notebook file is in the <font color='darkorchid'>my data</font> directory on DesignSafe.  The csv file is called <font color='darkorchid'>loma_prieta.csv</font> and is in a folder titled <font color='darkorchid'>shake_table_data</font> and that folder is also in  <font color='darkorchid'>my data</font> directory.  The **`file_pathway`** will be <font color='darkorchid'>shake_table_data/loma_prieta.csv</font>"
   ]
  },
  {
   "cell_type": "code",
   "execution_count": null,
   "metadata": {},
   "outputs": [],
   "source": [
    "# CODE CELL 2\n",
    "\n",
    "# This code cell will read your data file into a pandas data frame.\n",
    "\n",
    "# Type the code from your worksheet.\n",
    "# Remember to replace data_frame_name with a new descriptive name.\n",
    "# Remember to replace file_pathway with the name of your csv file.\n",
    "\n",
    "\n"
   ]
  },
  {
   "cell_type": "code",
   "execution_count": 1,
   "metadata": {},
   "outputs": [],
   "source": [
    "# CODE CELL 3\n",
    "\n",
    "# Now let's look at what was imported.\n",
    "# Replace the blank with the data_frame_name you chose in the cell above\n",
    "\n"
   ]
  },
  {
   "cell_type": "markdown",
   "metadata": {},
   "source": [
    "**What happened?**\n",
    "\n",
    "** Look over the output and make sure you understand what is going on in the table. **\n",
    "\n",
    "** What data is being displayed?  How?**\n",
    "\n",
    "***\n",
    "\n",
    "# <span style=\"color:steelblue\"> Analyzing Data</span>\n",
    "\n",
    "We get a lot of data from our experiment and need to figure out what to do to it to make it useful to us.  Looking through the data frame is really not an answer.\n",
    "\n",
    "So let's start with some basic statistics (like stuff you learned in middle school)."
   ]
  },
  {
   "cell_type": "code",
   "execution_count": 2,
   "metadata": {},
   "outputs": [],
   "source": [
    "# CODE CELL 4\n",
    "\n",
    "# This code will perform 1-variable statistics on each series (column of the data frame)\n",
    "# Replace the blank with data_frame_name you chose earlier\n",
    "\n"
   ]
  },
  {
   "cell_type": "markdown",
   "metadata": {},
   "source": [
    "**What happened?**\n",
    "\n",
    "**What does this table tell us about the data?**\n",
    "\n",
    "**How useful is it?**\n",
    "***"
   ]
  },
  {
   "cell_type": "code",
   "execution_count": null,
   "metadata": {},
   "outputs": [],
   "source": [
    "# CODE CELL 5\n",
    "\n",
    "# This code will create a line graph of the information in the data frame.\n",
    "# Replace the blank with data_frame_name you chose earlier\n",
    "\n"
   ]
  },
  {
   "cell_type": "markdown",
   "metadata": {},
   "source": [
    "**What happened?**\n",
    "\n",
    "**What does this graph tell us about the data?**\n",
    "\n",
    "** How useful is it??**\n",
    "***\n",
    "***"
   ]
  },
  {
   "cell_type": "markdown",
   "metadata": {},
   "source": [
    "## <span style=\"color:steelblue\"> Why We Like Pandas</span>\n",
    "\n",
    "Pandas make it easy for us to separate out the information we need from a larger data frame.  We'll primarily use a process called *slicing*.  The slicing function uses index values and column labels to separate out portions of a data frame.\n",
    "\n",
    "However, before we can slice up our data frame into smaller, more useful chunks, we need to separate out the data from the two different sensors. \n",
    "\n",
    "We are going to create two new data frames, one for each accelerometer. \n",
    "\n",
    "### <span style=\"color:royalblue\"> Coding Key</span>\n",
    "\n",
    "**`accelerometer1`**\n",
    "\n",
    "**`accelerometer2`**\n",
    "\n",
    "These are what you would call the two different accelerometers attached to your structure and peg board.  To make this all easier for everyone, **`accelerometer1`** is the one attached to the peg board, **`accelerometer2`** is the one attached to the structure.\n",
    "\n",
    "***\n",
    "\n",
    "**`data_frame_name_accelerometer1`**\n",
    "\n",
    "**`data_frame_name_accelerometer2`**\n",
    "\n",
    "These are what you would like to call the two new data frames you will be creating. For example, if you are looking at the Kobe earthquake simulation data and your team used the alpha and bravo accelerometers you can use  <font color='darkorchid'>kobe_alpha</font> and  <font color='darkorchid'>kobe_bravo</font>.  \n",
    "\n",
    "You can use abbreviations to make these names shorter, but make sure you can tell them apart later. "
   ]
  },
  {
   "cell_type": "code",
   "execution_count": null,
   "metadata": {},
   "outputs": [],
   "source": [
    "# CODE CELL 6\n",
    "\n",
    "# This block of code will separate out the information in the original data frame by values in 'ClientId',\n",
    "# which holds the name of the accelerometer. Then the code assigns that section of data to a new data frame.\n",
    "\n",
    "# Remember to continue using the same variable name for 'data_frame_name'\n",
    "\n",
    "\n",
    "\n",
    "\n"
   ]
  },
  {
   "cell_type": "code",
   "execution_count": null,
   "metadata": {},
   "outputs": [],
   "source": [
    "# CODE CELL 7\n",
    "\n",
    "# In this cell, print out the new data frame to make sure the code worked.\n",
    "\n"
   ]
  },
  {
   "cell_type": "code",
   "execution_count": null,
   "metadata": {},
   "outputs": [],
   "source": [
    "# CODE CELL 8\n",
    "\n",
    "# In this cell, create a new data frame for accelerometer2.\n",
    "# What process can you do here to be replicate the previous typed code?\n",
    "# Print the data frame out for the second accelerometer to make sure it all worked.\n",
    "\n",
    "\n",
    "\n",
    "\n"
   ]
  },
  {
   "cell_type": "markdown",
   "metadata": {},
   "source": [
    "***\n",
    "### <span style=\"color:steelblue\">Indices</span>\n",
    "\n",
    "You may have noticed that the indices of the data frame for the second accelerometer does not start at zero, but were the same values as they were for the original data frame.  \n",
    "\n",
    "We need to fix that by resetting the index.  The line of code below will reset the index so it starts at zero.\n",
    "***"
   ]
  },
  {
   "cell_type": "code",
   "execution_count": null,
   "metadata": {},
   "outputs": [],
   "source": [
    "# CODE CELL 9\n",
    "\n",
    "# In this cell, type in the line of code that will reset the index to zero.\n",
    "\n"
   ]
  },
  {
   "cell_type": "code",
   "execution_count": null,
   "metadata": {},
   "outputs": [],
   "source": [
    "# CODE CELL 10\n",
    "\n",
    "# In this cell, print out the new data frame to make sure the code worked and the index was reset.\n",
    "\n"
   ]
  },
  {
   "cell_type": "code",
   "execution_count": null,
   "metadata": {},
   "outputs": [],
   "source": [
    "#CODE CELL 11\n",
    "\n",
    "# In this cell, we will plot the data frame for accelerometer1\n",
    "# In the blank, put the name of the new data frame for accelerometer1\n",
    "\n",
    "\n",
    "\n"
   ]
  },
  {
   "cell_type": "markdown",
   "metadata": {},
   "source": [
    "**What happened?**\n",
    "\n",
    "**What is this a graph of?**\n",
    "\n",
    "** How useful is it?**\n",
    "\n",
    "**How can we make it more useful?**\n",
    "\n",
    "***\n"
   ]
  },
  {
   "cell_type": "markdown",
   "metadata": {},
   "source": [
    "# <span style=\"color:chocolate\">Graphing</span>\n",
    "\n",
    "We can't tell what portion of the data set is useful to us yet.  The graphs that the plain **`plot.()`** function gives are not helping because the x-axis shows the index values and we really want to see the x-axis be for the time.\n",
    "\n",
    "So we are going to alter the **`plot.()`** function to give us more useful data\n",
    "\n",
    "***\n",
    "\n",
    "*Note:  The word \"graph\" we use in K-12 math classes is not the same as what mathematicians and scientists think of when they hear the word \"graph.\" What we call \"graphs\" are what they call \"plots.\"  \"Graphs\" refer to graph theory graphs.  Google them if you are curious.*\n",
    "***\n",
    "\n",
    "## <span style=\"color:chocolate\">Choosing Axes</span>"
   ]
  },
  {
   "cell_type": "code",
   "execution_count": null,
   "metadata": {},
   "outputs": [],
   "source": [
    "# CODE CELL 12\n",
    "\n",
    "# In this block of code we will assign a specific series (column) to be the x-values and another to be the y-values.\n",
    "# We will graph data from the data frame for the first accelerometer\n",
    "\n",
    "\n",
    "\n"
   ]
  },
  {
   "cell_type": "markdown",
   "metadata": {},
   "source": [
    "**The code inside the (  ) are called parameters.**\n",
    "\n",
    "**How did adding these parameters change the graph?**\n",
    "\n",
    "**What is this a graph of?**\n",
    "\n",
    "**How can I graph the other series vs. time?**\n",
    "***"
   ]
  },
  {
   "cell_type": "code",
   "execution_count": null,
   "metadata": {},
   "outputs": [],
   "source": [
    "# CODE CELL 13\n",
    "# In this cell, graph the y data from the first accelerometer.\n",
    "# Copy and paste the code from the cell above and alter it to graph the correct data\n"
   ]
  },
  {
   "cell_type": "code",
   "execution_count": null,
   "metadata": {},
   "outputs": [],
   "source": [
    "# CODE CELL 14\n",
    "\n",
    "# In this cell, graph the x data for the second accelerometer.\n",
    "# Copy and paste the code from the cell above and alter it to graph the correct data\n"
   ]
  },
  {
   "cell_type": "code",
   "execution_count": null,
   "metadata": {},
   "outputs": [],
   "source": [
    "# CODE CELL 15\n",
    "\n",
    "# In this cell, graph the y data for the second accelerometer.\n",
    "# Copy and paste the code from the cell above and alter it to graph the correct data\n"
   ]
  },
  {
   "cell_type": "markdown",
   "metadata": {},
   "source": [
    "## <span style=\"color:chocolate\">Graphing More Than One Data Set</span>\n",
    "\n",
    "One of the things that we probably want to do is compare/contrast different data sets.  The easiest way to do this is to graph them together. \n",
    "\n",
    "We have two ways we can do this.\n",
    "\n",
    "We can plot them together in the same set of axes or we can create two graphs and display them.  We'll try both and you group can decide which method you can get more information from. \n",
    "\n",
    "### <span style=\"color:chocolate\">Plotting on the Same Axes</span>"
   ]
  },
  {
   "cell_type": "code",
   "execution_count": null,
   "metadata": {},
   "outputs": [],
   "source": [
    "# CODE CELL 16\n",
    "\n",
    "# This block of code will allow you to graph two different data sets, scaled on the same set of axes.\n",
    "# We want to plot the x-data for both accelerometers together so we can see what is happening.\n",
    "\n",
    "# Remember to continue to use the variable names you chose earlier.\n",
    "\n",
    "\n",
    "\n"
   ]
  },
  {
   "cell_type": "code",
   "execution_count": null,
   "metadata": {},
   "outputs": [],
   "source": [
    "# CODE CELL 17\n",
    "\n",
    "# In this cell, plot the y-data from both accelerometers\n",
    "\n",
    "\n",
    "\n",
    "\n"
   ]
  },
  {
   "cell_type": "markdown",
   "metadata": {},
   "source": [
    "### <span style=\"color:chocolate\">Plotting Stacked Graphs</span>"
   ]
  },
  {
   "cell_type": "code",
   "execution_count": null,
   "metadata": {},
   "outputs": [],
   "source": [
    "# CODE CELL 18\n",
    "\n",
    "# This block of code will create two graphs and stack them.  \n",
    "# Both graphs will have the same scales on both x and y axes.\n",
    "# We will graph the x data from both of the accelerometers.\n",
    "\n",
    "\n"
   ]
  },
  {
   "cell_type": "code",
   "execution_count": null,
   "metadata": {},
   "outputs": [],
   "source": [
    "# CODE CELL 19\n",
    "\n",
    "# In this cell, plot the y-data for both accelerometers so they are separate and stacked\n",
    "# Fill in the blanks to create this code\n",
    "\n",
    "\n",
    "\n"
   ]
  },
  {
   "cell_type": "markdown",
   "metadata": {},
   "source": [
    "## <span style=\"color:steelblue\">Saving Graphs as .png Files</span>\n",
    "\n",
    "If you were do a presentation, you might want to show some of the graphs you created.  You can easily do so by replacing a single line of your code, the **`plt.show()`** with **`plt.savefig()`**\n",
    "\n",
    "Using this function will save the plot you create as a .png file.  The new file will be located in the same directory the Jupyter Notebook file is located, unless you specify a different directory.\n"
   ]
  },
  {
   "cell_type": "code",
   "execution_count": null,
   "metadata": {},
   "outputs": [],
   "source": [
    "# CODE CELL 20\n",
    "\n",
    "# This block will save a graph as a png file.\n",
    "\n",
    "# Copy and paste the lines of code for one of the graphs you created earlier directly below this line of documentation.\n",
    "\n",
    "\n",
    "\n",
    "\n",
    "# Type code to create a png file below:\n",
    "\n"
   ]
  },
  {
   "cell_type": "markdown",
   "metadata": {},
   "source": [
    "## <span style=\"color:chocolate\">Changing the Window</span>\n",
    "\n",
    "There are times that you will want to zoom in or zoom out of your graph.  We can do this easily with a couple of lines of additional code.\n",
    "\n"
   ]
  },
  {
   "cell_type": "code",
   "execution_count": null,
   "metadata": {},
   "outputs": [],
   "source": [
    "# copy and paste the code from one of your graphs directly below this line of documentation.\n",
    "# Do not include the line plt.show() in this space.  It needs to be at the end of the block of code.\n",
    "\n",
    "\n",
    "\n",
    "\n",
    "\n",
    "\n",
    "\n",
    "\n",
    "# Fill in the blanks as follows:\n",
    "# plt.ylim (min, max)\n",
    "# plt.xlim (min, max)\n",
    "\n",
    "plt.ylim (__, __)\n",
    "plt.xlim (__, __)\n",
    "\n",
    "plt.show()"
   ]
  },
  {
   "cell_type": "markdown",
   "metadata": {},
   "source": [
    "## <span style=\"color:steelblue\">Slicing a Data Frame</span>\n",
    "\n",
    "Slicing a data frame is like zooming in on a specific portion of the table.  It is a little different in that we slice using the index values and column labels as reference.\n",
    "\n",
    "We are going to practice slicing a data frame in case you find that you need to focus in on a small portion of the data collected during your analysis. \n",
    "\n",
    "### <span style=\"color:royalblue\">Coding Key</span>\n",
    "\n",
    "**`df_slice`**\n",
    "\n",
    "This is what you would like to call the new data frame that will hold the slice of the larger data frame\n"
   ]
  },
  {
   "cell_type": "code",
   "execution_count": null,
   "metadata": {},
   "outputs": [],
   "source": [
    "# Below is some code you can use to slice a panda data frame.  \n",
    "# This code will allow you to specify both index values and columns by labels\n",
    "\n",
    "# Replace the blanks as follows\n",
    "# df_slice = data_frame_name_accelerometer1.loc [ min:max, ['column1 label']]\n",
    "\n",
    "______ = _____.loc[___:___, ['___']]\n",
    "\n",
    "# Print and plot this new data frame to see what you get\n",
    "# Replace the blanks as follows:\n",
    "\n",
    "#print df_slice\n",
    "\n",
    "print ______\n",
    "\n",
    "# df_slice.plot()\n",
    "\n",
    "_____.plot()\n",
    "\n",
    "plt.show()\n"
   ]
  },
  {
   "cell_type": "markdown",
   "metadata": {},
   "source": [
    "# <span style=\"color:blueviolet\">Graphing Extras</span>\n",
    "\n",
    "Here are some optional extra lines of code that you can use/add to put some more detail into your graphs and control the appearance of the plots.  The sample code given shows the same base code with the extras added in one at a time.  By the end the code is pretty long.  "
   ]
  },
  {
   "cell_type": "markdown",
   "metadata": {
    "collapsed": true
   },
   "source": [
    "## <span style=\"color:mediumorchid\">Changing Line Width</span>\n",
    "\n",
    "To change the line width of one of your graphs, you need to add a parameter within the paretheses of the `.plot()` function. Note that each of the parameters is separated by a comma.  Don't forget the comma.\n",
    "\n",
    "**`linewidth = float`**\n",
    "\n",
    "**`float`** is a decimal value between 0 and well, whatever you want, but it starts to get pretty useless after about 10.\n",
    "\n",
    "The sample code below shows how to use this parameter.\n",
    "\n",
    "```python\n",
    "loma_prieta_alpha.plot(x = 'ms', y = 'x', linewidth = 4)\n",
    "plt.show()\n",
    "```\n",
    "\n",
    "Copy and paste the code from one of your graphs above into a new code cell and change the line width.  Experiment with the number to see the differences in widths produced."
   ]
  },
  {
   "cell_type": "markdown",
   "metadata": {},
   "source": [
    "## <span style=\"color:mediumorchid\">Changing Line Color</span>\n",
    "\n",
    "To change the line color, you need to add a parameter within the parenthese of the **`.plot()`** function.  Don't forget the comma between parameters.\n",
    "\n",
    "**`color = 'name_of_color'`**\n",
    "\n",
    "The sample code below shows how to use this parameter.\n",
    "\n",
    "```python\n",
    "loma_prieta_alpha.plot(x = 'ms', y = 'x', linewidth = 4, color = 'green')\n",
    "plt.show()\n",
    "```\n",
    "\n",
    "Notice the the name of the color needs to be in quotes.  \n",
    "\n",
    "Copy and paste the code from one of your graphs above into a new code cell and change the color of the line.\n",
    "\n",
    "For a list of colors available go to https://matplotlib.org/examples/color/named_colors.html\n"
   ]
  },
  {
   "cell_type": "markdown",
   "metadata": {},
   "source": [
    "## <span style=\"color:mediumorchid\">Adding Labels to Your Axes</span>\n",
    "\n",
    "If you would like to label the axes of your graph, include the following lines of code\n",
    "\n",
    "```python\n",
    "plt.xlabel ('String you want to use as a label')\n",
    "plt.ylabel ('String you want to use as a label')\n",
    "```\n",
    "\n",
    "This code will go inbetween the **`.plot()`** function and the `plt.show()`\n",
    "\n",
    "The sample code below would add the labels \"This is the x-axis\" and \"This is the y-axis\" to a graph.\n",
    "\n",
    "```python\n",
    "loma_prieta_alpha.plot(x = 'ms', y = 'x', linewidth = 4, color = 'green')\n",
    "\n",
    "# the additional code the add labels to the axes\n",
    "plt.xlabel ('This is the x-axis')\n",
    "plt.ylabel ('This is the y-axis')\n",
    "\n",
    "plt.show()\n",
    "```\n",
    "\n",
    "Copy and paste the code from one of your graphs above into a new code cell and add some labels to your axes.  It would be good to label your axes with what variable is graphed there and the units."
   ]
  },
  {
   "cell_type": "markdown",
   "metadata": {},
   "source": [
    "## <span style=\"color:mediumorchid\">Adding a Title to Your Graph</span>\n",
    "\n",
    "If you would like to add a title to your graph, which is good when you have several graphs, include the following line of code.\n",
    "\n",
    "```python\n",
    "plt.title ('Title You Want to Give Your Graph')\n",
    "```\n",
    "This code will go anywhere inbetween the `.plot()` funciton and the `plt.show()`\n",
    "\n",
    "The sample code below would add the title \"This is a title\" to a graph.\n",
    "\n",
    "```python\n",
    "loma_prieta_alpha.plot(x = 'ms', y = 'x', linewidth = 4, color = 'green')\n",
    "plt.xlabel ('This is the x-axis')\n",
    "plt.ylabel ('This is the y-axis')\n",
    "\n",
    "# the additional line of code to add a title\n",
    "plt.title ('This is a title')\n",
    "\n",
    "plt.show()\n",
    "```\n",
    "\n",
    "Copy and paste the code from one of your graphs above into a new code cell and add a title to your graph."
   ]
  },
  {
   "cell_type": "markdown",
   "metadata": {},
   "source": [
    "## <span style=\"color:mediumorchid\">Manually Choosing the Window</span>\n",
    "\n",
    "If you do not like the windows the `.plot()` function gave you, you can manually input the min/max values for the x- and y-axes by including the following code.\n",
    "\n",
    "```python\n",
    "plt.xlim(min_x,max_x)\n",
    "plt.ylim(min_y,max_y)\n",
    "```\n",
    "\n",
    "**`min_x`** is the lowest value you want to appear on the x-axis.\n",
    "\n",
    "**`max_x`** is the highest value you want to appear on the x-axis.\n",
    "\n",
    "**`min_y`** is the lowest value you want to appear on the y-axis.\n",
    "\n",
    "**`max_y`** is the highest value you want to appear on the y-axis.\n",
    "\n",
    "This code will go anywhere inbetween the **`.plot()`** function and the **`plt.show()`**\n",
    "\n",
    "The sample code below will manually change the x-axis to go from 0 to 10 and the y-axis to go from 0 to 100\n",
    "\n",
    "```python\n",
    "loma_prieta_alpha.plot(x = 'ms', y = 'x', color = 'green')\n",
    "plt.xlabel ('This is the x-axis')\n",
    "plt.ylabel ('This is the y-axis')\n",
    "plt.title ('This is a title')\n",
    "\n",
    "# The two additional lines of code to manually change the window\n",
    "plt.xlim(0,10)\n",
    "plt.ylim(0,100)\n",
    "\n",
    "plt.show()\n",
    "```\n",
    "\n",
    "Copy and past the code from one of your graphs above into a new code cell and manipulate the window manually."
   ]
  },
  {
   "cell_type": "markdown",
   "metadata": {},
   "source": [
    "## <span style=\"color:mediumorchid\">Manually Setting the Tick Values</span>\n",
    "\n",
    "If you do not like the location of the tick marks along an axis, you can manually change those as well.  You will need to include the following lines of code:\n",
    "\n",
    "    plt.xticks(np.arange(min_x, max_x + 1, scale ))\n",
    "    plt.yticks(np.arange(min_y, max_y + 1, scale ))\n",
    "\n",
    "**`min_x`** and **`min_y`** are the lowest values you want on the x and y axes.\n",
    "\n",
    "**`max_x`** and **`max_y`** are the highest values you want on the x and y axes.  **BUT** you have to add 1 to that value or that highest value will not appear as a tick mark.\n",
    "\n",
    "**`scale`** is the interval you want for your tick marks.  It can be any floating value.  For example, if you want the tick values to show up every 0.5 units on your x-axis, you'd set that scale value to be 0.5\n",
    "\n",
    "This code will go anywhere inbetween the **`.plot()`** function and the **`plt.show()`**\n",
    "\n",
    "The sample code below will manually change the x-axis to go from 0 to 10, counting by 2's and the y-axis to go from 0 to 100 counting by 20's.\n",
    "\n",
    "```python\n",
    "loma_prieta_alpha.plot(x = 'ms', y = 'x', color = 'green')\n",
    "plt.xlabel ('This is the x-axis')\n",
    "plt.ylabel ('This is the y-axis')\n",
    "plt.title ('This is a title')\n",
    "plt.xlim(0,10)\n",
    "plt.ylim(0,100)\n",
    "\n",
    "# The two additional lines of code to set the tick mark values\n",
    "plt.xticks(np.arange(0, 11, 2 ))\n",
    "plt.yticks(np.arange(0, 101, 20 ))\n",
    "\n",
    "plt.show()\n",
    "```\n",
    "\n",
    "Copy and past the code from one of your graphs above into a new code cell and manipulate the tick marks manually.\n",
    "    "
   ]
  },
  {
   "cell_type": "markdown",
   "metadata": {},
   "source": [
    "## <span style=\"color:mediumorchid\">Changing Text Color on a Graph</span>\n",
    "\n",
    "Changing the color of the text is done the same way you'd change the color of the lines in a graph.  Inside the parenthes of any line of code that produces text, add the following parameter\n",
    "\n",
    "**`color = 'name_of_color'`**\n",
    "\n",
    "The sample code below shows how to use this parameter\n",
    "\n",
    "```python\n",
    "# The additional bits of code to assign color were added into the ( )\n",
    "\n",
    "loma_prieta_alpha.plot(x = 'ms', y = 'x', color = 'green')\n",
    "plt.xlabel ('This is the x-axis', color = 'red')\n",
    "plt.ylabel ('This is the y-axis', color = 'red')\n",
    "plt.title ('This is a title', color = 'blue')\n",
    "plt.xlim(0,10)\n",
    "plt.ylim(0,100)\n",
    "plt.xticks(np.arange(0, 11, 2 ))\n",
    "plt.yticks(np.arange(0, 101, 20 ))\n",
    "plt.show()\n",
    "```\n",
    "Notice the the name of the color needs to be in quotes.  \n",
    "\n",
    "For a list of colors available go to https://matplotlib.org/examples/color/named_colors.html\n"
   ]
  },
  {
   "cell_type": "markdown",
   "metadata": {},
   "source": [
    "## <span style=\"color:mediumorchid\">Changing the Background Color</span>\n",
    "\n",
    "If you would like to change the background color of your graphs from the default \"white\" to something else, you have to change the **`.plot()`** function parameters. You do this by inserting the following line of code **before** the **`.plot()`** function.\n",
    "\n",
    "```python\n",
    "plt.rcParams['axes.facecolor'] = 'color_name'\n",
    "```\n",
    "\n",
    "**Note** This line of code will change all subsequent graphs... meaning every graph after this line of code is run will have the background color you specified. If you want to change it back to white, you need to run this line of code again.\n",
    "\n",
    "The sample of code below shows where to put this particular line to change the background color of your plot to blue.\n",
    "\n",
    "```python\n",
    "# The first line of code sets the background color\n",
    "plt.rcParams['axes.facecolor'] = 'blue'\n",
    "\n",
    "loma_prieta_alpha.plot(x = 'ms', y = 'x', color = 'green')\n",
    "plt.xlabel ('This is the x-axis', color = 'red')\n",
    "plt.ylabel ('This is the y-axis', color = 'red')\n",
    "plt.title ('This is a title', color = 'blue')\n",
    "plt.xlim(0,10)\n",
    "plt.ylim(0,100)\n",
    "plt.xticks(np.arange(0, 11, 2 ))\n",
    "plt.yticks(np.arange(0, 101, 20 ))\n",
    "plt.show()\n",
    "```"
   ]
  },
  {
   "cell_type": "markdown",
   "metadata": {},
   "source": [
    "## <span style=\"color:mediumorchid\">Changing the Edge Color and Width</span>\n",
    "\n",
    "The \"edge\" is the rectangle drawn around your graph, where your scales are located.  If you would like to change the color of the lines outlining your graph from the default \"black\" to something else, you have to change the **`.plot()`** function parameters.  You do this by inserting the following line of code **before** the **`.plot()`** function.\n",
    "\n",
    "```python\n",
    "plt.rc('axes',edgecolor='color_name', linewidth = float)\n",
    "```\n",
    "**`float`** is a decimal value between 0 and whatever you want.  It will specify the width of the edge line. \n",
    "\n",
    "**Note:** This line of code will change all subsequent graphs, meaning every graph after this line of code is run will have the same edge color and thickness.  \n",
    "\n",
    "The sample code below shows where to put this particular line to change the edge color to green and the thickness to 2.0.\n",
    "\n",
    "```python\n",
    "\n",
    "# This top line of code sets the edge color and edge width\n",
    "plt.rc('axes',edgecolor='green', linewidth = 2.0)\n",
    "\n",
    "plt.rcParams['axes.facecolor'] = 'blue'\n",
    "\n",
    "loma_prieta_alpha.plot(x = 'ms', y = 'x', color = 'green')\n",
    "plt.xlabel ('This is the x-axis', color = 'red')\n",
    "plt.ylabel ('This is the y-axis', color = 'red')\n",
    "plt.title ('This is a title', color = 'blue')\n",
    "plt.xlim(0,10)\n",
    "plt.ylim(0,100)\n",
    "plt.xticks(np.arange(0, 11, 2 ))\n",
    "plt.yticks(np.arange(0, 101, 20 ))\n",
    "plt.show()\n",
    "```"
   ]
  },
  {
   "cell_type": "markdown",
   "metadata": {},
   "source": [
    "## <span style=\"color:mediumorchid\">Changing the Graph Output Size</span>\n",
    "\n",
    "If you would like to change the size of the output graph, you have to change the **`.plot()`** function parameters.\n",
    "You do this by inserting the following line of code before the **`.plot()`** function.\n",
    "\n",
    "The only thing you need to change in the code below is **`new_width`** and **`new_height`**, which will be float values.  These numbers are in \"inches.\"\n",
    "\n",
    "```python\n",
    "fig_size = plt.rcParams['figure.figsize']\n",
    "fig_size[0]=new_width\n",
    "fig_size[1]=new_height\n",
    "plt.rcParams['figure.figsize']=fig_size\n",
    "```\n",
    "\n",
    "**Note:** This line of code will change all subsequent graphs, meaning every graph after this line of code is run will have the same size.  If you want to change it back to the default, use 6.0 for the width and 4.0 for the height.\n",
    "\n",
    "The sample code below shows where to put this particular line to change the size of the graph to have a width of 9inches and a height of 7 inches\n",
    "\n",
    "```python\n",
    "\n",
    "# These 4 lines of code are what you need to add to change the dimensions of the output graph\n",
    "fig_size = plt.rcParams['figure.figsize']\n",
    "fig_size[0]=9\n",
    "fig_size[1]=7\n",
    "plt.rcParams['figure.figsize']=fig_size\n",
    "\n",
    "plt.rc('axes',edgecolor='green', linewidth = 2.0)\n",
    "plt.rcParams['axes.facecolor'] = 'blue'\n",
    "\n",
    "\n",
    "loma_prieta_alpha.plot(x = 'ms', y = 'x', color = 'green')\n",
    "plt.xlabel ('This is the x-axis', color = 'red')\n",
    "plt.ylabel ('This is the y-axis', color = 'red')\n",
    "plt.title ('This is a title', color = 'blue')\n",
    "plt.xlim(0,10)\n",
    "plt.ylim(0,100)\n",
    "plt.xticks(np.arange(0, 11, 2 ))\n",
    "plt.yticks(np.arange(0, 101, 20 ))\n",
    "plt.show()\n",
    "```"
   ]
  },
  {
   "cell_type": "markdown",
   "metadata": {},
   "source": [
    "## <span style=\"color:mediumorchid\">Annotating with an Arrow</span>\n",
    "\n",
    "This would be considered \"extra fancy\", but if you wanted to add a note about a specific part of your graph, like point out the maximum value, you can with the **`plt.annotate()`** function.\n",
    "\n",
    "```python\n",
    "plt.annotate('text you want', xy=(____), xytext=(____), arrowprops=dict(facecolor='black', shrink=0.05))\n",
    "```\n",
    "\n",
    "Inside **`xy = (_____)`** you place the ordered pair you want the arrow to point to\n",
    "Inside **`xytext = (_____)`** you place the ordered pair you want your text to start.\n",
    "\n",
    "This text would go anywhere in between the **`.plot()`** function and the **`plt.show()`**.\n",
    "\n",
    "You can change the color of the text by adding that parameter within the parentheses.  If you want to change the color of the arrow, change 'black' to whatever color you want."
   ]
  },
  {
   "cell_type": "code",
   "execution_count": null,
   "metadata": {},
   "outputs": [],
   "source": []
  }
 ],
 "metadata": {
  "kernelspec": {
   "display_name": "Python 3",
   "language": "python",
   "name": "python3"
  },
  "language_info": {
   "codemirror_mode": {
    "name": "ipython",
    "version": 3
   },
   "file_extension": ".py",
   "mimetype": "text/x-python",
   "name": "python",
   "nbconvert_exporter": "python",
   "pygments_lexer": "ipython3",
   "version": "3.7.3"
  }
 },
 "nbformat": 4,
 "nbformat_minor": 1
}
