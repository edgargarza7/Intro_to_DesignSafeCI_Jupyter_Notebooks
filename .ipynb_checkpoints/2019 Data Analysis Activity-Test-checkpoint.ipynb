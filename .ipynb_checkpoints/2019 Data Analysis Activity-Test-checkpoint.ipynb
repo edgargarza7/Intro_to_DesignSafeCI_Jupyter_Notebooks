{
 "cells": [
  {
   "cell_type": "markdown",
   "metadata": {},
   "source": [
    "# Shake Table Data Analysis Tools\n",
    "\n",
    "This notebook provides some basic code you can run to help your group visualize the shake table data.\n",
    "\n",
    "A shake table is a device for shaking scaled slopes, structural models or building components with a wide range of simulated ground motions, including reproductions of recorded earthquakes time-histories.\n",
    "\n",
    "We will use the Loma Prieta Earthquake time-history data set to work through the code in this notebook together."
   ]
  },
  {
   "cell_type": "markdown",
   "metadata": {},
   "source": [
    "# <span style=\"color:dimgray\"> Equipping Tools</span>\n",
    "\n",
    "The Jupyter notebooks we create come equipped with the basic commands and functions of the Python coding language. \n",
    "\n",
    "But, we want to be able to do more sophisticated data manipulation and graphing within our notebook, so we will have to upgrade it with *packages*.  These packages will give us more tools to work with when we analyze our data.  It's like we started with a basic four function calculator and need to upgrade it to a graphing calculator.\n",
    "\n",
    "There are over 100,000 packages for Python listed on PyPI (Python Package Index).  We'll only be using 3:\n",
    "\n",
    "**NumPY**\n",
    "A coding package for scientific computing and working with arrays.\n",
    "\n",
    "**MatPlotLib**\n",
    "A plotting library for Python and the NumPy extension.\n",
    "\n",
    "**Pandas**\n",
    "A package providing fast and flexible data structures, making it easier to work with data.\n",
    "\n",
    "## <span style=\"color:dimgray\"> To Run a Code Cell</span>\n",
    "\n",
    "## press <span style=\"color:firebrick\"> 'shift' + 'enter'</span>\n",
    "\n",
    "***"
   ]
  },
  {
   "cell_type": "code",
   "execution_count": 2,
   "metadata": {},
   "outputs": [],
   "source": [
    "# CODE CELL 1\n",
    "\n",
    "# This is a 'Code' Cell.\n",
    "# This green text is called documentation.  \n",
    "# Documentation is not code, but is important to coding\n",
    "# It is text used to describe code, making it easier to understand and use.\n",
    "# All documentation is preceded by a '#' character.  Python ignores any text in line after a '#'\n",
    "\n",
    "# You run a code cell in a Jupyter Notbeook by selecting the cell and pressing 'shift' + 'enter'\n",
    "\n",
    "# Type in the code from your worksheet below:\n",
    "\n",
    "import pandas as pd\n",
    "import numpy as np\n",
    "import matplotlib.pyplot as plt\n",
    "%matplotlib inline"
   ]
  },
  {
   "cell_type": "markdown",
   "metadata": {},
   "source": [
    "# <span style=\"color:steelblue\"> Importing Data From CSV</span>\n",
    "\n",
    "## <span style=\"color:dimgray\"> Vocabulary</span>\n",
    "\n",
    "**Data Frame**\n",
    "This is a tool to organize data, like a spreadsheet.  \n",
    "    \n",
    "Each column is a set of data called a *series*.  A *series* is a one-dimensional array that contains one type of data.\n",
    "    \n",
    "The data we will collect will have 5 series (columns) and 1 *index*.  One of our *series* holds strings for the name of the sensor.  The other 4 *series* will hold the time data, and the acceleration data for the x, y, and z directions.  \n",
    "    \n",
    "The rows of the data frame are indexed with 0, 1, 2, 3, ... An *index* is a reference we will use to mark one instance of data collection. In the example below, index 0 (or row 0) holds the first instance of data collected by the alpha sensor. Index 1 holds the first instance of data collected by the bravo sensor, etc.\n",
    "   \n",
    "|    |ClientId| ms  | x  | y  | z |\n",
    "\n",
    "| ---|---|---|----|----|----|\n",
    "\n",
    "|0  | alpha  |  1 | 0.386719 | -0.068359 | 0.960938\n",
    "\n",
    "|1  | bravo  |  1 | -0.273438| 0.222656| 0.810547\n",
    "\n",
    "|2  | alpha  |  5 | -0.003906| 0.222656 | 1.115234\n",
    "\n",
    "|3  | bravo  |  5 | 0.441406 | -0.156250| 1.007812    \n",
    "  \n",
    "***\n",
    "\t\t\n",
    "        \n",
    "**CSV File**\n",
    "CSV stands for comma-separated value.  \n",
    "    \n",
    "It is a simple file type that saves tabular data, like from a spreadsheet or database.  The data we collect will be saved in a csv file.\n"
   ]
  },
  {
   "cell_type": "markdown",
   "metadata": {},
   "source": [
    "### <span style=\"color:royalblue\"> Coding Key</span>\n",
    "\n",
    "**`data_frame_name`**\n",
    "\n",
    "This is what you would like to call the data frame for later use in the code.  Use something descriptive.  Do not start the name with a number, coding languages don't like that.  You can abbreviate, but make sure you will be able to recognize it later.  \n",
    "\n",
    "***\n",
    "      \n",
    "**`file_pathway`** \n",
    "  \n",
    "This is where the csv files is located and how the code will find the data file. \n",
    "\n",
    "If the data is from a website, the file_pathway will be the URL.\n",
    "\n",
    "If the data file is in the same directory (folder) as your Jupyter Notebook, the file_pathway is just the file's name. Don't forget the '.csv' \n",
    "\n",
    "Otherwise, you have to find the directory. For example, let's say your Jupyter notebook file is in the <font color='darkorchid'>my data</font> directory on DesignSafe.  The csv file is called <font color='darkorchid'>loma_prieta.csv</font> and is in a folder titled <font color='darkorchid'>shake_table_data</font> and that folder is also in  <font color='darkorchid'>my data</font> directory.  The **`file_pathway`** will be <font color='darkorchid'>shake_table_data/loma_prieta.csv</font>"
   ]
  },
  {
   "cell_type": "code",
   "execution_count": 3,
   "metadata": {},
   "outputs": [],
   "source": [
    "# CODE CELL 2\n",
    "\n",
    "# This code cell will read your data file into a pandas data frame.\n",
    "\n",
    "# Type the code from your worksheet.\n",
    "# Remember to replace data_frame_name with a new descriptive name.\n",
    "# Remember to replace file_pathway with the name of your csv file.\n",
    "\n",
    "\n",
    "lomo_data = pd.read_csv('lomo_prieta.csv')"
   ]
  },
  {
   "cell_type": "code",
   "execution_count": 4,
   "metadata": {},
   "outputs": [
    {
     "name": "stdout",
     "output_type": "stream",
     "text": [
      "     clientId    ms         x         y         z\n",
      "0       alpha     1  0.025391  0.029297  0.978516\n",
      "1       alpha     4  0.017578  0.033203  0.984375\n",
      "2       alpha     6  0.027344  0.027344  0.988281\n",
      "3       alpha     9  0.021484  0.033203  0.984375\n",
      "4       alpha    11  0.025391  0.035156  0.974609\n",
      "5       alpha    14  0.019531  0.035156  0.976562\n",
      "6       alpha    16  0.023438  0.037109  0.976562\n",
      "7       alpha    18  0.019531  0.033203  0.978516\n",
      "8       alpha    21  0.017578  0.033203  0.978516\n",
      "9       alpha    24  0.021484  0.042969  0.982422\n",
      "10      alpha    26  0.025391  0.044922  0.988281\n",
      "11      alpha    29  0.027344  0.042969  0.984375\n",
      "12      alpha    31  0.023438  0.041016  0.976562\n",
      "13      alpha    34  0.017578  0.037109  0.976562\n",
      "14      alpha    36  0.023438  0.042969  0.982422\n",
      "15      alpha    38  0.023438  0.041016  0.984375\n",
      "16      alpha    41  0.021484  0.039062  0.984375\n",
      "17      alpha    43  0.025391  0.042969  0.980469\n",
      "18      alpha    46  0.025391  0.042969  0.978516\n",
      "19      alpha    48  0.027344  0.041016  0.972656\n",
      "20      alpha    51  0.025391  0.039062  0.980469\n",
      "21      alpha    53  0.025391  0.037109  0.980469\n",
      "22      alpha    56  0.025391  0.037109  0.978516\n",
      "23      alpha    58  0.025391  0.042969  0.986328\n",
      "24      alpha    61  0.029297  0.042969  0.986328\n",
      "25      alpha    63  0.017578  0.039062  0.980469\n",
      "26      alpha    66  0.025391  0.035156  0.986328\n",
      "27      alpha    68  0.033203  0.033203  0.984375\n",
      "28      alpha    71  0.037109  0.033203  0.978516\n",
      "29      alpha    74  0.031250  0.035156  0.984375\n",
      "...       ...   ...       ...       ...       ...\n",
      "7374    bravo  9713  0.039062  0.041016  0.972656\n",
      "7375    bravo  9716  0.033203  0.039062  0.964844\n",
      "7376    bravo  9718  0.031250  0.035156  0.970703\n",
      "7377    bravo  9721  0.023438  0.037109  0.974609\n",
      "7378    bravo  9724  0.025391  0.035156  0.970703\n",
      "7379    bravo  9726  0.027344  0.042969  0.966797\n",
      "7380    bravo  9729  0.027344  0.035156  0.986328\n",
      "7381    bravo  9731  0.035156  0.035156  0.980469\n",
      "7382    bravo  9734  0.044922  0.035156  0.970703\n",
      "7383    bravo  9736  0.037109  0.035156  0.960938\n",
      "7384    bravo  9739  0.033203  0.033203  0.949219\n",
      "7385    bravo  9741  0.033203  0.044922  0.960938\n",
      "7386    bravo  9744  0.037109  0.042969  0.964844\n",
      "7387    bravo  9747  0.039062  0.031250  0.980469\n",
      "7388    bravo  9751  0.046875  0.037109  0.966797\n",
      "7389    bravo  9753  0.041016  0.035156  0.964844\n",
      "7390    bravo  9756  0.048828  0.031250  0.970703\n",
      "7391    bravo  9759  0.052734  0.039062  0.984375\n",
      "7392    bravo  9761  0.039062  0.029297  0.988281\n",
      "7393    bravo  9764  0.039062  0.033203  0.990234\n",
      "7394    bravo  9767  0.046875  0.033203  0.992188\n",
      "7395    bravo  9771  0.041016  0.031250  0.978516\n",
      "7396    bravo  9773  0.031250  0.029297  0.962891\n",
      "7397    bravo  9776  0.015625  0.037109  0.976562\n",
      "7398    bravo  9778  0.029297  0.029297  0.972656\n",
      "7399    bravo  9781  0.027344  0.025391  0.976562\n",
      "7400    bravo  9783  0.031250  0.025391  0.976562\n",
      "7401    bravo  9786  0.039062  0.031250  0.970703\n",
      "7402    bravo  9788  0.041016  0.035156  0.976562\n",
      "7403    bravo  9791  0.039062  0.039062  0.978516\n",
      "\n",
      "[7404 rows x 5 columns]\n"
     ]
    }
   ],
   "source": [
    "# CODE CELL 3\n",
    "\n",
    "# Now let's look at what was imported.\n",
    "# Replace the blank with the data_frame_name you chose in the cell above\n",
    "\n",
    "print(lomo_data)"
   ]
  },
  {
   "cell_type": "markdown",
   "metadata": {},
   "source": [
    "**What happened?**\n",
    "\n",
    "** Look over the output and make sure you understand what is going on in the table. **\n",
    "\n",
    "** What data is being displayed?  How?**\n",
    "\n",
    "***\n",
    "\n",
    "# <span style=\"color:steelblue\"> Analyzing Data</span>\n",
    "\n",
    "We get a lot of data from our experiment and need to figure out what to do to it to make it useful to us.  Looking through the data frame is really not an answer.\n",
    "\n",
    "So let's start with some basic statistics (like stuff you learned in middle school)."
   ]
  },
  {
   "cell_type": "code",
   "execution_count": 5,
   "metadata": {},
   "outputs": [
    {
     "data": {
      "text/html": [
       "<div>\n",
       "<style scoped>\n",
       "    .dataframe tbody tr th:only-of-type {\n",
       "        vertical-align: middle;\n",
       "    }\n",
       "\n",
       "    .dataframe tbody tr th {\n",
       "        vertical-align: top;\n",
       "    }\n",
       "\n",
       "    .dataframe thead th {\n",
       "        text-align: right;\n",
       "    }\n",
       "</style>\n",
       "<table border=\"1\" class=\"dataframe\">\n",
       "  <thead>\n",
       "    <tr style=\"text-align: right;\">\n",
       "      <th></th>\n",
       "      <th>ms</th>\n",
       "      <th>x</th>\n",
       "      <th>y</th>\n",
       "      <th>z</th>\n",
       "    </tr>\n",
       "  </thead>\n",
       "  <tbody>\n",
       "    <tr>\n",
       "      <th>count</th>\n",
       "      <td>7404.000000</td>\n",
       "      <td>7404.000000</td>\n",
       "      <td>7404.000000</td>\n",
       "      <td>7404.000000</td>\n",
       "    </tr>\n",
       "    <tr>\n",
       "      <th>mean</th>\n",
       "      <td>4915.096569</td>\n",
       "      <td>0.035302</td>\n",
       "      <td>0.036356</td>\n",
       "      <td>0.934981</td>\n",
       "    </tr>\n",
       "    <tr>\n",
       "      <th>std</th>\n",
       "      <td>2829.485159</td>\n",
       "      <td>0.534381</td>\n",
       "      <td>0.371109</td>\n",
       "      <td>0.394566</td>\n",
       "    </tr>\n",
       "    <tr>\n",
       "      <th>min</th>\n",
       "      <td>1.000000</td>\n",
       "      <td>-2.576172</td>\n",
       "      <td>-2.476562</td>\n",
       "      <td>-2.146484</td>\n",
       "    </tr>\n",
       "    <tr>\n",
       "      <th>25%</th>\n",
       "      <td>2488.500000</td>\n",
       "      <td>-0.085938</td>\n",
       "      <td>-0.003906</td>\n",
       "      <td>0.935547</td>\n",
       "    </tr>\n",
       "    <tr>\n",
       "      <th>50%</th>\n",
       "      <td>4929.000000</td>\n",
       "      <td>0.031250</td>\n",
       "      <td>0.035156</td>\n",
       "      <td>0.974609</td>\n",
       "    </tr>\n",
       "    <tr>\n",
       "      <th>75%</th>\n",
       "      <td>7363.500000</td>\n",
       "      <td>0.126953</td>\n",
       "      <td>0.089844</td>\n",
       "      <td>1.005859</td>\n",
       "    </tr>\n",
       "    <tr>\n",
       "      <th>max</th>\n",
       "      <td>9791.000000</td>\n",
       "      <td>3.382812</td>\n",
       "      <td>2.789062</td>\n",
       "      <td>2.580078</td>\n",
       "    </tr>\n",
       "  </tbody>\n",
       "</table>\n",
       "</div>"
      ],
      "text/plain": [
       "                ms            x            y            z\n",
       "count  7404.000000  7404.000000  7404.000000  7404.000000\n",
       "mean   4915.096569     0.035302     0.036356     0.934981\n",
       "std    2829.485159     0.534381     0.371109     0.394566\n",
       "min       1.000000    -2.576172    -2.476562    -2.146484\n",
       "25%    2488.500000    -0.085938    -0.003906     0.935547\n",
       "50%    4929.000000     0.031250     0.035156     0.974609\n",
       "75%    7363.500000     0.126953     0.089844     1.005859\n",
       "max    9791.000000     3.382812     2.789062     2.580078"
      ]
     },
     "execution_count": 5,
     "metadata": {},
     "output_type": "execute_result"
    }
   ],
   "source": [
    "# CODE CELL 4\n",
    "\n",
    "# This code will perform 1-variable statistics on each series (column of the data frame)\n",
    "# Replace the blank with data_frame_name you chose earlier\n",
    "\n",
    "lomo_data.describe()"
   ]
  },
  {
   "cell_type": "markdown",
   "metadata": {},
   "source": [
    "**What happened?**\n",
    "\n",
    "**What does this table tell us about the data?**\n",
    "\n",
    "**How useful is it?**\n",
    "***"
   ]
  },
  {
   "cell_type": "code",
   "execution_count": 6,
   "metadata": {},
   "outputs": [
    {
     "data": {
      "image/png": "[encoded data removed]",
      "text/plain": [
       "<Figure size 432x288 with 1 Axes>"
      ]
     },
     "metadata": {
      "needs_background": "light"
     },
     "output_type": "display_data"
    }
   ],
   "source": [
    "# CODE CELL 5\n",
    "\n",
    "# This code will create a line graph of the information in the data frame.\n",
    "\n",
    "lomo_data.plot()\n",
    "plt.show()"
   ]
  },
  {
   "cell_type": "markdown",
   "metadata": {},
   "source": [
    "**What happened?**\n",
    "\n",
    "**What does this graph tell us about the data?**\n",
    "\n",
    "** How useful is it??**\n",
    "***\n",
    "***"
   ]
  },
  {
   "cell_type": "markdown",
   "metadata": {},
   "source": [
    "## <span style=\"color:steelblue\"> Why We Like Pandas</span>\n",
    "\n",
    "Pandas make it easy for us to separate out the information we need from a larger data frame.  We'll primarily use a process called *slicing*.  The slicing function uses index values and column labels to separate out portions of a data frame.\n",
    "\n",
    "However, before we can slice up our data frame into smaller, more useful chunks, we need to separate out the data from the two different sensors. \n",
    "\n",
    "We are going to create two new data frames, one for each accelerometer. \n",
    "\n",
    "### <span style=\"color:royalblue\"> Coding Key</span>\n",
    "\n",
    "**`accelerometer1`**\n",
    "\n",
    "**`accelerometer2`**\n",
    "\n",
    "These are what you would call the two different accelerometers attached to your structure and peg board.  To make this all easier for everyone, **`accelerometer1`** is the one attached to the peg board, **`accelerometer2`** is the one attached to the structure.\n",
    "\n",
    "***\n",
    "\n",
    "**`data_frame_name_accelerometer1`**\n",
    "\n",
    "**`data_frame_name_accelerometer2`**\n",
    "\n",
    "These are what you would like to call the two new data frames you will be creating. For example, if you are looking at the Kobe earthquake simulation data and your team used the alpha and bravo accelerometers you can use  <font color='darkorchid'>kobe_alpha</font> and  <font color='darkorchid'>kobe_bravo</font>.  \n",
    "\n",
    "You can use abbreviations to make these names shorter, but make sure you can tell them apart later. "
   ]
  },
  {
   "cell_type": "code",
   "execution_count": 7,
   "metadata": {},
   "outputs": [],
   "source": [
    "# CODE CELL 6\n",
    "\n",
    "# This block of code will separate out the information in the original data frame by values in 'ClientId',\n",
    "# which holds the name of the accelerometer. Then the code assigns that section of data to a new data frame.\n",
    "\n",
    "# Remember to continue using the same variable name for 'data_frame_name'\n",
    "\n",
    "alpha = \"alpha\"\n",
    "lomo_data_alpha = lomo_data[lomo_data.clientId == alpha]\n",
    "\n"
   ]
  },
  {
   "cell_type": "code",
   "execution_count": 8,
   "metadata": {},
   "outputs": [
    {
     "name": "stdout",
     "output_type": "stream",
     "text": [
      "     clientId    ms         x         y         z\n",
      "0       alpha     1  0.025391  0.029297  0.978516\n",
      "1       alpha     4  0.017578  0.033203  0.984375\n",
      "2       alpha     6  0.027344  0.027344  0.988281\n",
      "3       alpha     9  0.021484  0.033203  0.984375\n",
      "4       alpha    11  0.025391  0.035156  0.974609\n",
      "5       alpha    14  0.019531  0.035156  0.976562\n",
      "6       alpha    16  0.023438  0.037109  0.976562\n",
      "7       alpha    18  0.019531  0.033203  0.978516\n",
      "8       alpha    21  0.017578  0.033203  0.978516\n",
      "9       alpha    24  0.021484  0.042969  0.982422\n",
      "10      alpha    26  0.025391  0.044922  0.988281\n",
      "11      alpha    29  0.027344  0.042969  0.984375\n",
      "12      alpha    31  0.023438  0.041016  0.976562\n",
      "13      alpha    34  0.017578  0.037109  0.976562\n",
      "14      alpha    36  0.023438  0.042969  0.982422\n",
      "15      alpha    38  0.023438  0.041016  0.984375\n",
      "16      alpha    41  0.021484  0.039062  0.984375\n",
      "17      alpha    43  0.025391  0.042969  0.980469\n",
      "18      alpha    46  0.025391  0.042969  0.978516\n",
      "19      alpha    48  0.027344  0.041016  0.972656\n",
      "20      alpha    51  0.025391  0.039062  0.980469\n",
      "21      alpha    53  0.025391  0.037109  0.980469\n",
      "22      alpha    56  0.025391  0.037109  0.978516\n",
      "23      alpha    58  0.025391  0.042969  0.986328\n",
      "24      alpha    61  0.029297  0.042969  0.986328\n",
      "25      alpha    63  0.017578  0.039062  0.980469\n",
      "26      alpha    66  0.025391  0.035156  0.986328\n",
      "27      alpha    68  0.033203  0.033203  0.984375\n",
      "28      alpha    71  0.037109  0.033203  0.978516\n",
      "29      alpha    74  0.031250  0.035156  0.984375\n",
      "...       ...   ...       ...       ...       ...\n",
      "3704    alpha  9714  0.027344  0.035156  0.990234\n",
      "3705    alpha  9716  0.033203  0.027344  0.996094\n",
      "3706    alpha  9719  0.035156  0.029297  0.974609\n",
      "3707    alpha  9721  0.031250  0.035156  0.984375\n",
      "3708    alpha  9724  0.033203  0.046875  0.955078\n",
      "3709    alpha  9728  0.044922  0.044922  0.962891\n",
      "3710    alpha  9730  0.025391  0.041016  0.974609\n",
      "3711    alpha  9733  0.021484  0.042969  0.976562\n",
      "3712    alpha  9736  0.019531  0.039062  0.978516\n",
      "3713    alpha  9738  0.015625  0.041016  0.986328\n",
      "3714    alpha  9741  0.029297  0.039062  1.000000\n",
      "3715    alpha  9744  0.017578  0.033203  0.962891\n",
      "3716    alpha  9746  0.023438  0.037109  0.962891\n",
      "3717    alpha  9749  0.013672  0.048828  0.933594\n",
      "3718    alpha  9751  0.021484  0.058594  0.949219\n",
      "3719    alpha  9754  0.033203  0.048828  0.933594\n",
      "3720    alpha  9756  0.037109  0.046875  0.962891\n",
      "3721    alpha  9759  0.025391  0.035156  0.957031\n",
      "3722    alpha  9761  0.021484  0.042969  0.951172\n",
      "3723    alpha  9764  0.033203  0.042969  0.951172\n",
      "3724    alpha  9766  0.017578  0.042969  0.943359\n",
      "3725    alpha  9769  0.037109  0.037109  0.962891\n",
      "3726    alpha  9771  0.031250  0.035156  0.966797\n",
      "3727    alpha  9774  0.025391  0.031250  0.943359\n",
      "3728    alpha  9776  0.033203  0.033203  1.003906\n",
      "3729    alpha  9779  0.027344  0.031250  1.027344\n",
      "3730    alpha  9781  0.027344  0.029297  1.027344\n",
      "3731    alpha  9784  0.021484  0.027344  1.011719\n",
      "3732    alpha  9786  0.017578  0.037109  1.019531\n",
      "3733    alpha  9789  0.017578  0.035156  1.021484\n",
      "\n",
      "[3734 rows x 5 columns]\n"
     ]
    }
   ],
   "source": [
    "# CODE CELL 7\n",
    "\n",
    "# In this cell, print out the new data frame to make sure the code worked.\n",
    "\n",
    "print(lomo_data_alpha)"
   ]
  },
  {
   "cell_type": "code",
   "execution_count": 9,
   "metadata": {},
   "outputs": [
    {
     "name": "stdout",
     "output_type": "stream",
     "text": [
      "     clientId    ms         x         y         z\n",
      "3734    bravo     2  0.039062  0.033203  0.976562\n",
      "3735    bravo     4  0.039062  0.037109  0.974609\n",
      "3736    bravo     7  0.046875  0.031250  0.968750\n",
      "3737    bravo     9  0.041016  0.037109  0.955078\n",
      "3738    bravo    12  0.042969  0.039062  0.949219\n",
      "3739    bravo    14  0.033203  0.039062  0.958984\n",
      "3740    bravo    17  0.041016  0.031250  0.978516\n",
      "3741    bravo    19  0.037109  0.033203  0.978516\n",
      "3742    bravo    22  0.052734  0.029297  0.972656\n",
      "3743    bravo    24  0.041016  0.033203  0.978516\n",
      "3744    bravo    27  0.052734  0.037109  0.970703\n",
      "3745    bravo    29  0.050781  0.029297  0.970703\n",
      "3746    bravo    32  0.048828  0.039062  0.972656\n",
      "3747    bravo    34  0.039062  0.044922  0.978516\n",
      "3748    bravo    37  0.039062  0.044922  0.974609\n",
      "3749    bravo    39  0.041016  0.050781  0.958984\n",
      "3750    bravo    42  0.042969  0.048828  0.960938\n",
      "3751    bravo    44  0.035156  0.046875  0.972656\n",
      "3752    bravo    46  0.037109  0.037109  0.966797\n",
      "3753    bravo    49  0.052734  0.033203  0.972656\n",
      "3754    bravo    51  0.052734  0.033203  0.966797\n",
      "3755    bravo    54  0.048828  0.029297  0.962891\n",
      "3756    bravo    56  0.050781  0.031250  0.972656\n",
      "3757    bravo    59  0.050781  0.029297  0.976562\n",
      "3758    bravo    61  0.037109  0.033203  0.978516\n",
      "3759    bravo    64  0.048828  0.033203  0.974609\n",
      "3760    bravo    67  0.042969  0.037109  0.978516\n",
      "3761    bravo    69  0.037109  0.029297  0.974609\n",
      "3762    bravo    72  0.023438  0.027344  0.980469\n",
      "3763    bravo    74  0.015625  0.031250  0.994141\n",
      "...       ...   ...       ...       ...       ...\n",
      "7374    bravo  9713  0.039062  0.041016  0.972656\n",
      "7375    bravo  9716  0.033203  0.039062  0.964844\n",
      "7376    bravo  9718  0.031250  0.035156  0.970703\n",
      "7377    bravo  9721  0.023438  0.037109  0.974609\n",
      "7378    bravo  9724  0.025391  0.035156  0.970703\n",
      "7379    bravo  9726  0.027344  0.042969  0.966797\n",
      "7380    bravo  9729  0.027344  0.035156  0.986328\n",
      "7381    bravo  9731  0.035156  0.035156  0.980469\n",
      "7382    bravo  9734  0.044922  0.035156  0.970703\n",
      "7383    bravo  9736  0.037109  0.035156  0.960938\n",
      "7384    bravo  9739  0.033203  0.033203  0.949219\n",
      "7385    bravo  9741  0.033203  0.044922  0.960938\n",
      "7386    bravo  9744  0.037109  0.042969  0.964844\n",
      "7387    bravo  9747  0.039062  0.031250  0.980469\n",
      "7388    bravo  9751  0.046875  0.037109  0.966797\n",
      "7389    bravo  9753  0.041016  0.035156  0.964844\n",
      "7390    bravo  9756  0.048828  0.031250  0.970703\n",
      "7391    bravo  9759  0.052734  0.039062  0.984375\n",
      "7392    bravo  9761  0.039062  0.029297  0.988281\n",
      "7393    bravo  9764  0.039062  0.033203  0.990234\n",
      "7394    bravo  9767  0.046875  0.033203  0.992188\n",
      "7395    bravo  9771  0.041016  0.031250  0.978516\n",
      "7396    bravo  9773  0.031250  0.029297  0.962891\n",
      "7397    bravo  9776  0.015625  0.037109  0.976562\n",
      "7398    bravo  9778  0.029297  0.029297  0.972656\n",
      "7399    bravo  9781  0.027344  0.025391  0.976562\n",
      "7400    bravo  9783  0.031250  0.025391  0.976562\n",
      "7401    bravo  9786  0.039062  0.031250  0.970703\n",
      "7402    bravo  9788  0.041016  0.035156  0.976562\n",
      "7403    bravo  9791  0.039062  0.039062  0.978516\n",
      "\n",
      "[3670 rows x 5 columns]\n"
     ]
    }
   ],
   "source": [
    "# CODE CELL 8\n",
    "\n",
    "# In this cell, create a new data frame for accelerometer2.\n",
    "# What process can you do here to be replicate the previous typed code?\n",
    "# Print the data frame out for the second accelerometer to make sure it all worked.\n",
    "\n",
    "\n",
    "bravo = \"bravo\"\n",
    "\n",
    "lomo_data_bravo = lomo_data[lomo_data.clientId == bravo]\n",
    "\n",
    "print(lomo_data_bravo)\n",
    "\n"
   ]
  },
  {
   "cell_type": "markdown",
   "metadata": {},
   "source": [
    "***\n",
    "### <span style=\"color:steelblue\">Indices</span>\n",
    "\n",
    "You may have noticed that the indices of the data frame for the second accelerometer does not start at zero, but were the same values as they were for the original data frame.  \n",
    "\n",
    "We need to fix that by resetting the index.  The line of code below will reset the index so it starts at zero.\n",
    "***"
   ]
  },
  {
   "cell_type": "code",
   "execution_count": 10,
   "metadata": {},
   "outputs": [],
   "source": [
    "# CODE CELL 9\n",
    "\n",
    "# In this cell, type in the line of code that will reset the index to zero.\n",
    "\n",
    "lomo_data_bravo = lomo_data_bravo.reset_index(drop=True)"
   ]
  },
  {
   "cell_type": "code",
   "execution_count": 11,
   "metadata": {},
   "outputs": [
    {
     "name": "stdout",
     "output_type": "stream",
     "text": [
      "     clientId    ms         x         y         z\n",
      "0       bravo     2  0.039062  0.033203  0.976562\n",
      "1       bravo     4  0.039062  0.037109  0.974609\n",
      "2       bravo     7  0.046875  0.031250  0.968750\n",
      "3       bravo     9  0.041016  0.037109  0.955078\n",
      "4       bravo    12  0.042969  0.039062  0.949219\n",
      "5       bravo    14  0.033203  0.039062  0.958984\n",
      "6       bravo    17  0.041016  0.031250  0.978516\n",
      "7       bravo    19  0.037109  0.033203  0.978516\n",
      "8       bravo    22  0.052734  0.029297  0.972656\n",
      "9       bravo    24  0.041016  0.033203  0.978516\n",
      "10      bravo    27  0.052734  0.037109  0.970703\n",
      "11      bravo    29  0.050781  0.029297  0.970703\n",
      "12      bravo    32  0.048828  0.039062  0.972656\n",
      "13      bravo    34  0.039062  0.044922  0.978516\n",
      "14      bravo    37  0.039062  0.044922  0.974609\n",
      "15      bravo    39  0.041016  0.050781  0.958984\n",
      "16      bravo    42  0.042969  0.048828  0.960938\n",
      "17      bravo    44  0.035156  0.046875  0.972656\n",
      "18      bravo    46  0.037109  0.037109  0.966797\n",
      "19      bravo    49  0.052734  0.033203  0.972656\n",
      "20      bravo    51  0.052734  0.033203  0.966797\n",
      "21      bravo    54  0.048828  0.029297  0.962891\n",
      "22      bravo    56  0.050781  0.031250  0.972656\n",
      "23      bravo    59  0.050781  0.029297  0.976562\n",
      "24      bravo    61  0.037109  0.033203  0.978516\n",
      "25      bravo    64  0.048828  0.033203  0.974609\n",
      "26      bravo    67  0.042969  0.037109  0.978516\n",
      "27      bravo    69  0.037109  0.029297  0.974609\n",
      "28      bravo    72  0.023438  0.027344  0.980469\n",
      "29      bravo    74  0.015625  0.031250  0.994141\n",
      "...       ...   ...       ...       ...       ...\n",
      "3640    bravo  9713  0.039062  0.041016  0.972656\n",
      "3641    bravo  9716  0.033203  0.039062  0.964844\n",
      "3642    bravo  9718  0.031250  0.035156  0.970703\n",
      "3643    bravo  9721  0.023438  0.037109  0.974609\n",
      "3644    bravo  9724  0.025391  0.035156  0.970703\n",
      "3645    bravo  9726  0.027344  0.042969  0.966797\n",
      "3646    bravo  9729  0.027344  0.035156  0.986328\n",
      "3647    bravo  9731  0.035156  0.035156  0.980469\n",
      "3648    bravo  9734  0.044922  0.035156  0.970703\n",
      "3649    bravo  9736  0.037109  0.035156  0.960938\n",
      "3650    bravo  9739  0.033203  0.033203  0.949219\n",
      "3651    bravo  9741  0.033203  0.044922  0.960938\n",
      "3652    bravo  9744  0.037109  0.042969  0.964844\n",
      "3653    bravo  9747  0.039062  0.031250  0.980469\n",
      "3654    bravo  9751  0.046875  0.037109  0.966797\n",
      "3655    bravo  9753  0.041016  0.035156  0.964844\n",
      "3656    bravo  9756  0.048828  0.031250  0.970703\n",
      "3657    bravo  9759  0.052734  0.039062  0.984375\n",
      "3658    bravo  9761  0.039062  0.029297  0.988281\n",
      "3659    bravo  9764  0.039062  0.033203  0.990234\n",
      "3660    bravo  9767  0.046875  0.033203  0.992188\n",
      "3661    bravo  9771  0.041016  0.031250  0.978516\n",
      "3662    bravo  9773  0.031250  0.029297  0.962891\n",
      "3663    bravo  9776  0.015625  0.037109  0.976562\n",
      "3664    bravo  9778  0.029297  0.029297  0.972656\n",
      "3665    bravo  9781  0.027344  0.025391  0.976562\n",
      "3666    bravo  9783  0.031250  0.025391  0.976562\n",
      "3667    bravo  9786  0.039062  0.031250  0.970703\n",
      "3668    bravo  9788  0.041016  0.035156  0.976562\n",
      "3669    bravo  9791  0.039062  0.039062  0.978516\n",
      "\n",
      "[3670 rows x 5 columns]\n"
     ]
    }
   ],
   "source": [
    "# CODE CELL 10\n",
    "\n",
    "# In this cell, print out the new data frame to make sure the code worked and the index was reset.\n",
    "\n",
    "print(lomo_data_bravo)"
   ]
  },
  {
   "cell_type": "code",
   "execution_count": 12,
   "metadata": {},
   "outputs": [
    {
     "data": {
      "image/png": "[encoded data removed]",
      "text/plain": [
       "<Figure size 432x288 with 1 Axes>"
      ]
     },
     "metadata": {
      "needs_background": "light"
     },
     "output_type": "display_data"
    }
   ],
   "source": [
    "#CODE CELL 11\n",
    "\n",
    "# In this cell, we will plot the data frame for accelerometer1\n",
    "# Remember to use the name of the new data frame for accelerometer1\n",
    "\n",
    "lomo_data_alpha.plot()\n",
    "plt.show()\n",
    "\n"
   ]
  },
  {
   "cell_type": "markdown",
   "metadata": {},
   "source": [
    "**What happened?**\n",
    "\n",
    "**What is this a graph of?**\n",
    "\n",
    "** How useful is it?**\n",
    "\n",
    "**How can we make it more useful?**\n",
    "\n",
    "***\n"
   ]
  },
  {
   "cell_type": "markdown",
   "metadata": {},
   "source": [
    "# <span style=\"color:chocolate\">Graphing</span>\n",
    "\n",
    "We can't tell what portion of the data set is useful to us yet.  The graphs that the basic **`plot.()`** function gives are not helping because the x-axis shows the index values and we really want to see the x-axis be for the time.\n",
    "\n",
    "So we are going to alter the **`plot.()`** function to give us more useful data\n",
    "\n",
    "***\n",
    "\n",
    "*Note:  The word \"graph\" we use in K-12 math classes is not the same as what mathematicians and scientists think of when they hear the word \"graph.\" What we call \"graphs\" are what they call \"plots.\"  \"Graphs\" refer to graph theory graphs.  Google them if you are curious.*\n",
    "***\n",
    "\n",
    "## <span style=\"color:chocolate\">Choosing Axes</span>"
   ]
  },
  {
   "cell_type": "code",
   "execution_count": 13,
   "metadata": {},
   "outputs": [
    {
     "data": {
      "image/png": "[encoded data removed]",
      "text/plain": [
       "<Figure size 432x288 with 1 Axes>"
      ]
     },
     "metadata": {
      "needs_background": "light"
     },
     "output_type": "display_data"
    }
   ],
   "source": [
    "# CODE CELL 12\n",
    "\n",
    "# In this block of code we will assign a specific series (column)\n",
    "# to be the x-values and another to be the y-values.\n",
    "# We will graph data from the data frame for the first accelerometer\n",
    "\n",
    "lomo_data_alpha.plot(x='ms', y='x')\n",
    "plt.show()\n",
    "\n"
   ]
  },
  {
   "cell_type": "markdown",
   "metadata": {},
   "source": [
    "**The code inside the (  ) are called parameters.**\n",
    "\n",
    "**How did adding these parameters change the graph?**\n",
    "\n",
    "**What is this a graph of?**\n",
    "\n",
    "**How can I graph the other series vs. time?**\n",
    "***"
   ]
  },
  {
   "cell_type": "code",
   "execution_count": 14,
   "metadata": {},
   "outputs": [
    {
     "data": {
      "image/png": "[encoded data removed]",
      "text/plain": [
       "<Figure size 432x288 with 1 Axes>"
      ]
     },
     "metadata": {
      "needs_background": "light"
     },
     "output_type": "display_data"
    }
   ],
   "source": [
    "# CODE CELL 13\n",
    "# In this cell, graph the y data from the first accelerometer.\n",
    "# Copy and paste the code from the cell above and alter it to graph the correct data\n",
    "\n",
    "lomo_data_alpha.plot(x='ms', y='y')\n",
    "plt.show()"
   ]
  },
  {
   "cell_type": "code",
   "execution_count": 15,
   "metadata": {},
   "outputs": [
    {
     "data": {
      "image/png": "[encoded data removed]",
      "text/plain": [
       "<Figure size 432x288 with 1 Axes>"
      ]
     },
     "metadata": {
      "needs_background": "light"
     },
     "output_type": "display_data"
    }
   ],
   "source": [
    "# CODE CELL 14\n",
    "\n",
    "# In this cell, graph the x data for the second accelerometer.\n",
    "# Copy and paste the code from the cell above and alter it to graph the correct data\n",
    "\n",
    "lomo_data_bravo.plot(x='ms', y='x')\n",
    "plt.show()"
   ]
  },
  {
   "cell_type": "code",
   "execution_count": 16,
   "metadata": {},
   "outputs": [
    {
     "data": {
      "image/png": "[encoded data removed]",
      "text/plain": [
       "<Figure size 432x288 with 1 Axes>"
      ]
     },
     "metadata": {
      "needs_background": "light"
     },
     "output_type": "display_data"
    }
   ],
   "source": [
    "# CODE CELL 15\n",
    "\n",
    "# In this cell, graph the y data for the second accelerometer.\n",
    "# Copy and paste the code from the cell above and alter it to graph the correct data\n",
    "\n",
    "lomo_data_bravo.plot(x='ms', y='y')\n",
    "plt.show()"
   ]
  },
  {
   "cell_type": "markdown",
   "metadata": {},
   "source": [
    "## <span style=\"color:chocolate\">Graphing More Than One Data Set</span>\n",
    "\n",
    "One of the things that we probably want to do is compare/contrast different data sets.  The easiest way to do this is to graph them together. \n",
    "\n",
    "We have two ways we can do this.\n",
    "\n",
    "We can plot them together in the same set of axes or we can create two graphs and display them.  We'll try both and you group can decide which method you can get more information from. \n",
    "\n",
    "### <span style=\"color:chocolate\">Plotting on the Same Axes</span>"
   ]
  },
  {
   "cell_type": "code",
   "execution_count": 17,
   "metadata": {},
   "outputs": [
    {
     "data": {
      "image/png": "[encoded data removed]",
      "text/plain": [
       "<Figure size 432x288 with 1 Axes>"
      ]
     },
     "metadata": {
      "needs_background": "light"
     },
     "output_type": "display_data"
    }
   ],
   "source": [
    "# CODE CELL 16\n",
    "\n",
    "# This block of code will allow you to graph two different data sets, scaled on the same set of axes.\n",
    "# We want to plot the x-data for both accelerometers together so we can see what is happening.\n",
    "\n",
    "# Remember to continue to use the variable names you chose earlier.\n",
    "\n",
    "ax = lomo_data_alpha.plot(x='ms', y='x', color='blue', label='alpha')\n",
    "\n",
    "lomo_data_bravo.plot(x='ms', y='x', color='red', label='bravo', ax=ax)\n",
    "\n",
    "plt.show()\n",
    "\n"
   ]
  },
  {
   "cell_type": "code",
   "execution_count": 19,
   "metadata": {},
   "outputs": [
    {
     "data": {
      "image/png": "[encoded data removed]",
      "text/plain": [
       "<Figure size 432x288 with 1 Axes>"
      ]
     },
     "metadata": {
      "needs_background": "light"
     },
     "output_type": "display_data"
    }
   ],
   "source": [
    "# CODE CELL 17\n",
    "\n",
    "# In this cell, plot the y-data from both accelerometers\n",
    "\n",
    "ax = lomo_data_alpha.plot(x='ms', y='y', color='blue', label='alpha')\n",
    "\n",
    "lomo_data_bravo.plot(x='ms', y='y', color='red', label='bravo', ax=ax)\n",
    "\n",
    "plt.show()\n",
    "\n",
    "\n"
   ]
  },
  {
   "cell_type": "markdown",
   "metadata": {},
   "source": [
    "### <span style=\"color:chocolate\">Plotting Stacked Graphs</span>"
   ]
  },
  {
   "cell_type": "code",
   "execution_count": 20,
   "metadata": {},
   "outputs": [
    {
     "data": {
      "image/png": "[encoded data removed]",
      "text/plain": [
       "<Figure size 432x288 with 2 Axes>"
      ]
     },
     "metadata": {
      "needs_background": "light"
     },
     "output_type": "display_data"
    }
   ],
   "source": [
    "# CODE CELL 18\n",
    "\n",
    "# This block of code will create two graphs and stack them.  \n",
    "# Both graphs will have the same scales on both x and y axes.\n",
    "# We will graph the x data from both of the accelerometers.\n",
    "\n",
    "fig, axes = plt.subplots(nrows=2, ncols=1, sharex='col', sharey='col')\n",
    "ax = lomo_data_alpha.plot(x = 'ms', y = 'x', color='blue', ax=axes[0], label = 'alpha')\n",
    "bx = lomo_data_bravo.plot(x = 'ms', y = 'x', color='red', ax=axes[1], label = 'bravo')\n",
    "plt.show()\n",
    "\n"
   ]
  },
  {
   "cell_type": "code",
   "execution_count": 21,
   "metadata": {},
   "outputs": [
    {
     "data": {
      "image/png": "[encoded data removed]",
      "text/plain": [
       "<Figure size 432x288 with 2 Axes>"
      ]
     },
     "metadata": {
      "needs_background": "light"
     },
     "output_type": "display_data"
    }
   ],
   "source": [
    "# CODE CELL 19\n",
    "\n",
    "# In this cell, plot the y-data for both accelerometers so they are separate and stacked\n",
    "# Fill in the blanks to create this code\n",
    "\n",
    "fig, axes = plt.subplots(nrows=2, ncols=1, sharex='col', sharey='col')\n",
    "ax = lomo_data_alpha.plot(x = 'ms', y = 'y', color='blue', ax=axes[0], label = 'alpha')\n",
    "bx = lomo_data_bravo.plot(x = 'ms', y = 'y', color='red', ax=axes[1], label = 'bravo')\n",
    "plt.show()\n",
    "\n"
   ]
  },
  {
   "cell_type": "markdown",
   "metadata": {},
   "source": [
    "## <span style=\"color:steelblue\">Saving Graphs as .png Files</span>\n",
    "\n",
    "If you were do a presentation, you might want to show some of the graphs you created.  You can easily do so by replacing a single line of your code, the **`plt.show()`** with **`plt.savefig()`**\n",
    "\n",
    "Using this function will save the plot you create as a .png file.  The new file will be located in the same directory the Jupyter Notebook file is located, unless you specify a different directory.\n"
   ]
  },
  {
   "cell_type": "code",
   "execution_count": 26,
   "metadata": {},
   "outputs": [
    {
     "data": {
      "image/png": "[encoded data removed]",
      "text/plain": [
       "<Figure size 432x288 with 1 Axes>"
      ]
     },
     "metadata": {
      "needs_background": "light"
     },
     "output_type": "display_data"
    }
   ],
   "source": [
    "# CODE CELL 20\n",
    "\n",
    "# This block will save a graph as a png file.\n",
    "\n",
    "# Copy and paste the lines of code for one of the graphs you created earlier directly below this line of documentation.\n",
    "\n",
    "ax = lomo_data_alpha.plot(x='ms', y='y', color='blue', label='alpha')\n",
    "\n",
    "lomo_data_bravo.plot(x='ms', y='y', color='red', label='bravo', ax=ax)\n",
    "\n",
    "\n",
    "# Type code to create a png file below:\n",
    "\n",
    "plt.savefig('stacked_plot_1.png')"
   ]
  },
  {
   "cell_type": "markdown",
   "metadata": {},
   "source": [
    "## <span style=\"color:chocolate\">Changing the Window</span>\n",
    "\n",
    "There are times that you will want to zoom in or zoom out of your graph.  We can do this easily with a couple of lines of additional code.\n",
    "\n"
   ]
  },
  {
   "cell_type": "code",
   "execution_count": null,
   "metadata": {},
   "outputs": [],
   "source": [
    "# copy and paste the code from one of your graphs directly below this line of documentation.\n",
    "# Do not include the line plt.show() in this space.  It needs to be at the end of the block of code.\n",
    "\n",
    "\n",
    "\n",
    "\n",
    "\n",
    "\n",
    "\n",
    "\n",
    "# Fill in the blanks as follows:\n",
    "# plt.ylim (min, max)\n",
    "# plt.xlim (min, max)\n",
    "\n",
    "plt.ylim (__, __)\n",
    "plt.xlim (__, __)\n",
    "\n",
    "plt.show()"
   ]
  },
  {
   "cell_type": "markdown",
   "metadata": {},
   "source": [
    "## <span style=\"color:steelblue\">Slicing a Data Frame</span>\n",
    "\n",
    "Slicing a data frame is like zooming in on a specific portion of the table.  It is a little different in that we slice using the index values and column labels as reference.\n",
    "\n",
    "We are going to practice slicing a data frame in case you find that you need to focus in on a small portion of the data collected during your analysis. \n",
    "\n",
    "### <span style=\"color:royalblue\">Coding Key</span>\n",
    "\n",
    "**`df_slice`**\n",
    "\n",
    "This is what you would like to call the new data frame that will hold the slice of the larger data frame\n"
   ]
  },
  {
   "cell_type": "code",
   "execution_count": null,
   "metadata": {},
   "outputs": [],
   "source": [
    "# Below is some code you can use to slice a panda data frame.  \n",
    "# This code will allow you to specify both index values and columns by labels\n",
    "\n",
    "# Replace the blanks as follows\n",
    "# df_slice = data_frame_name_accelerometer1.loc [ min:max, ['column1 label']]\n",
    "\n",
    "______ = _____.loc[___:___, ['___']]\n",
    "\n",
    "# Print and plot this new data frame to see what you get\n",
    "# Replace the blanks as follows:\n",
    "\n",
    "#print df_slice\n",
    "\n",
    "print ______\n",
    "\n",
    "# df_slice.plot()\n",
    "\n",
    "_____.plot()\n",
    "\n",
    "plt.show()\n"
   ]
  },
  {
   "cell_type": "markdown",
   "metadata": {},
   "source": [
    "# <span style=\"color:blueviolet\">Graphing Extras</span>\n",
    "\n",
    "Here are some optional extra lines of code that you can use/add to put some more detail into your graphs and control the appearance of the plots.  The sample code given shows the same base code with the extras added in one at a time.  By the end the code is pretty long.  "
   ]
  },
  {
   "cell_type": "markdown",
   "metadata": {
    "collapsed": true
   },
   "source": [
    "## <span style=\"color:mediumorchid\">Changing Line Width</span>\n",
    "\n",
    "To change the line width of one of your graphs, you need to add a parameter within the paretheses of the `.plot()` function. Note that each of the parameters is separated by a comma.  Don't forget the comma.\n",
    "\n",
    "**`linewidth = float`**\n",
    "\n",
    "**`float`** is a decimal value between 0 and well, whatever you want, but it starts to get pretty useless after about 10.\n",
    "\n",
    "The sample code below shows how to use this parameter.\n",
    "\n",
    "```python\n",
    "loma_prieta_alpha.plot(x = 'ms', y = 'x', linewidth = 4)\n",
    "plt.show()\n",
    "```\n",
    "\n",
    "Copy and paste the code from one of your graphs above into a new code cell and change the line width.  Experiment with the number to see the differences in widths produced."
   ]
  },
  {
   "cell_type": "markdown",
   "metadata": {},
   "source": [
    "## <span style=\"color:mediumorchid\">Changing Line Color</span>\n",
    "\n",
    "To change the line color, you need to add a parameter within the parenthese of the **`.plot()`** function.  Don't forget the comma between parameters.\n",
    "\n",
    "**`color = 'name_of_color'`**\n",
    "\n",
    "The sample code below shows how to use this parameter.\n",
    "\n",
    "```python\n",
    "loma_prieta_alpha.plot(x = 'ms', y = 'x', linewidth = 4, color = 'green')\n",
    "plt.show()\n",
    "```\n",
    "\n",
    "Notice the the name of the color needs to be in quotes.  \n",
    "\n",
    "Copy and paste the code from one of your graphs above into a new code cell and change the color of the line.\n",
    "\n",
    "For a list of colors available go to https://matplotlib.org/examples/color/named_colors.html\n"
   ]
  },
  {
   "cell_type": "markdown",
   "metadata": {},
   "source": [
    "## <span style=\"color:mediumorchid\">Adding Labels to Your Axes</span>\n",
    "\n",
    "If you would like to label the axes of your graph, include the following lines of code\n",
    "\n",
    "```python\n",
    "plt.xlabel ('String you want to use as a label')\n",
    "plt.ylabel ('String you want to use as a label')\n",
    "```\n",
    "\n",
    "This code will go inbetween the **`.plot()`** function and the `plt.show()`\n",
    "\n",
    "The sample code below would add the labels \"This is the x-axis\" and \"This is the y-axis\" to a graph.\n",
    "\n",
    "```python\n",
    "loma_prieta_alpha.plot(x = 'ms', y = 'x', linewidth = 4, color = 'green')\n",
    "\n",
    "# the additional code the add labels to the axes\n",
    "plt.xlabel ('This is the x-axis')\n",
    "plt.ylabel ('This is the y-axis')\n",
    "\n",
    "plt.show()\n",
    "```\n",
    "\n",
    "Copy and paste the code from one of your graphs above into a new code cell and add some labels to your axes.  It would be good to label your axes with what variable is graphed there and the units."
   ]
  },
  {
   "cell_type": "markdown",
   "metadata": {},
   "source": [
    "## <span style=\"color:mediumorchid\">Adding a Title to Your Graph</span>\n",
    "\n",
    "If you would like to add a title to your graph, which is good when you have several graphs, include the following line of code.\n",
    "\n",
    "```python\n",
    "plt.title ('Title You Want to Give Your Graph')\n",
    "```\n",
    "This code will go anywhere inbetween the `.plot()` funciton and the `plt.show()`\n",
    "\n",
    "The sample code below would add the title \"This is a title\" to a graph.\n",
    "\n",
    "```python\n",
    "loma_prieta_alpha.plot(x = 'ms', y = 'x', linewidth = 4, color = 'green')\n",
    "plt.xlabel ('This is the x-axis')\n",
    "plt.ylabel ('This is the y-axis')\n",
    "\n",
    "# the additional line of code to add a title\n",
    "plt.title ('This is a title')\n",
    "\n",
    "plt.show()\n",
    "```\n",
    "\n",
    "Copy and paste the code from one of your graphs above into a new code cell and add a title to your graph."
   ]
  },
  {
   "cell_type": "markdown",
   "metadata": {},
   "source": [
    "## <span style=\"color:mediumorchid\">Manually Choosing the Window</span>\n",
    "\n",
    "If you do not like the windows the `.plot()` function gave you, you can manually input the min/max values for the x- and y-axes by including the following code.\n",
    "\n",
    "```python\n",
    "plt.xlim(min_x,max_x)\n",
    "plt.ylim(min_y,max_y)\n",
    "```\n",
    "\n",
    "**`min_x`** is the lowest value you want to appear on the x-axis.\n",
    "\n",
    "**`max_x`** is the highest value you want to appear on the x-axis.\n",
    "\n",
    "**`min_y`** is the lowest value you want to appear on the y-axis.\n",
    "\n",
    "**`max_y`** is the highest value you want to appear on the y-axis.\n",
    "\n",
    "This code will go anywhere inbetween the **`.plot()`** function and the **`plt.show()`**\n",
    "\n",
    "The sample code below will manually change the x-axis to go from 0 to 10 and the y-axis to go from 0 to 100\n",
    "\n",
    "```python\n",
    "loma_prieta_alpha.plot(x = 'ms', y = 'x', color = 'green')\n",
    "plt.xlabel ('This is the x-axis')\n",
    "plt.ylabel ('This is the y-axis')\n",
    "plt.title ('This is a title')\n",
    "\n",
    "# The two additional lines of code to manually change the window\n",
    "plt.xlim(0,10)\n",
    "plt.ylim(0,100)\n",
    "\n",
    "plt.show()\n",
    "```\n",
    "\n",
    "Copy and past the code from one of your graphs above into a new code cell and manipulate the window manually."
   ]
  },
  {
   "cell_type": "markdown",
   "metadata": {},
   "source": [
    "## <span style=\"color:mediumorchid\">Manually Setting the Tick Values</span>\n",
    "\n",
    "If you do not like the location of the tick marks along an axis, you can manually change those as well.  You will need to include the following lines of code:\n",
    "\n",
    "    plt.xticks(np.arange(min_x, max_x + 1, scale ))\n",
    "    plt.yticks(np.arange(min_y, max_y + 1, scale ))\n",
    "\n",
    "**`min_x`** and **`min_y`** are the lowest values you want on the x and y axes.\n",
    "\n",
    "**`max_x`** and **`max_y`** are the highest values you want on the x and y axes.  **BUT** you have to add 1 to that value or that highest value will not appear as a tick mark.\n",
    "\n",
    "**`scale`** is the interval you want for your tick marks.  It can be any floating value.  For example, if you want the tick values to show up every 0.5 units on your x-axis, you'd set that scale value to be 0.5\n",
    "\n",
    "This code will go anywhere inbetween the **`.plot()`** function and the **`plt.show()`**\n",
    "\n",
    "The sample code below will manually change the x-axis to go from 0 to 10, counting by 2's and the y-axis to go from 0 to 100 counting by 20's.\n",
    "\n",
    "```python\n",
    "loma_prieta_alpha.plot(x = 'ms', y = 'x', color = 'green')\n",
    "plt.xlabel ('This is the x-axis')\n",
    "plt.ylabel ('This is the y-axis')\n",
    "plt.title ('This is a title')\n",
    "plt.xlim(0,10)\n",
    "plt.ylim(0,100)\n",
    "\n",
    "# The two additional lines of code to set the tick mark values\n",
    "plt.xticks(np.arange(0, 11, 2 ))\n",
    "plt.yticks(np.arange(0, 101, 20 ))\n",
    "\n",
    "plt.show()\n",
    "```\n",
    "\n",
    "Copy and past the code from one of your graphs above into a new code cell and manipulate the tick marks manually.\n",
    "    "
   ]
  },
  {
   "cell_type": "markdown",
   "metadata": {},
   "source": [
    "## <span style=\"color:mediumorchid\">Changing Text Color on a Graph</span>\n",
    "\n",
    "Changing the color of the text is done the same way you'd change the color of the lines in a graph.  Inside the parenthes of any line of code that produces text, add the following parameter\n",
    "\n",
    "**`color = 'name_of_color'`**\n",
    "\n",
    "The sample code below shows how to use this parameter\n",
    "\n",
    "```python\n",
    "# The additional bits of code to assign color were added into the ( )\n",
    "\n",
    "loma_prieta_alpha.plot(x = 'ms', y = 'x', color = 'green')\n",
    "plt.xlabel ('This is the x-axis', color = 'red')\n",
    "plt.ylabel ('This is the y-axis', color = 'red')\n",
    "plt.title ('This is a title', color = 'blue')\n",
    "plt.xlim(0,10)\n",
    "plt.ylim(0,100)\n",
    "plt.xticks(np.arange(0, 11, 2 ))\n",
    "plt.yticks(np.arange(0, 101, 20 ))\n",
    "plt.show()\n",
    "```\n",
    "Notice the the name of the color needs to be in quotes.  \n",
    "\n",
    "For a list of colors available go to https://matplotlib.org/examples/color/named_colors.html\n"
   ]
  },
  {
   "cell_type": "markdown",
   "metadata": {},
   "source": [
    "## <span style=\"color:mediumorchid\">Changing the Background Color</span>\n",
    "\n",
    "If you would like to change the background color of your graphs from the default \"white\" to something else, you have to change the **`.plot()`** function parameters. You do this by inserting the following line of code **before** the **`.plot()`** function.\n",
    "\n",
    "```python\n",
    "plt.rcParams['axes.facecolor'] = 'color_name'\n",
    "```\n",
    "\n",
    "**Note** This line of code will change all subsequent graphs... meaning every graph after this line of code is run will have the background color you specified. If you want to change it back to white, you need to run this line of code again.\n",
    "\n",
    "The sample of code below shows where to put this particular line to change the background color of your plot to blue.\n",
    "\n",
    "```python\n",
    "# The first line of code sets the background color\n",
    "plt.rcParams['axes.facecolor'] = 'blue'\n",
    "\n",
    "loma_prieta_alpha.plot(x = 'ms', y = 'x', color = 'green')\n",
    "plt.xlabel ('This is the x-axis', color = 'red')\n",
    "plt.ylabel ('This is the y-axis', color = 'red')\n",
    "plt.title ('This is a title', color = 'blue')\n",
    "plt.xlim(0,10)\n",
    "plt.ylim(0,100)\n",
    "plt.xticks(np.arange(0, 11, 2 ))\n",
    "plt.yticks(np.arange(0, 101, 20 ))\n",
    "plt.show()\n",
    "```"
   ]
  },
  {
   "cell_type": "markdown",
   "metadata": {},
   "source": [
    "## <span style=\"color:mediumorchid\">Changing the Edge Color and Width</span>\n",
    "\n",
    "The \"edge\" is the rectangle drawn around your graph, where your scales are located.  If you would like to change the color of the lines outlining your graph from the default \"black\" to something else, you have to change the **`.plot()`** function parameters.  You do this by inserting the following line of code **before** the **`.plot()`** function.\n",
    "\n",
    "```python\n",
    "plt.rc('axes',edgecolor='color_name', linewidth = float)\n",
    "```\n",
    "**`float`** is a decimal value between 0 and whatever you want.  It will specify the width of the edge line. \n",
    "\n",
    "**Note:** This line of code will change all subsequent graphs, meaning every graph after this line of code is run will have the same edge color and thickness.  \n",
    "\n",
    "The sample code below shows where to put this particular line to change the edge color to green and the thickness to 2.0.\n",
    "\n",
    "```python\n",
    "\n",
    "# This top line of code sets the edge color and edge width\n",
    "plt.rc('axes',edgecolor='green', linewidth = 2.0)\n",
    "\n",
    "plt.rcParams['axes.facecolor'] = 'blue'\n",
    "\n",
    "loma_prieta_alpha.plot(x = 'ms', y = 'x', color = 'green')\n",
    "plt.xlabel ('This is the x-axis', color = 'red')\n",
    "plt.ylabel ('This is the y-axis', color = 'red')\n",
    "plt.title ('This is a title', color = 'blue')\n",
    "plt.xlim(0,10)\n",
    "plt.ylim(0,100)\n",
    "plt.xticks(np.arange(0, 11, 2 ))\n",
    "plt.yticks(np.arange(0, 101, 20 ))\n",
    "plt.show()\n",
    "```"
   ]
  },
  {
   "cell_type": "markdown",
   "metadata": {},
   "source": [
    "## <span style=\"color:mediumorchid\">Changing the Graph Output Size</span>\n",
    "\n",
    "If you would like to change the size of the output graph, you have to change the **`.plot()`** function parameters.\n",
    "You do this by inserting the following line of code before the **`.plot()`** function.\n",
    "\n",
    "The only thing you need to change in the code below is **`new_width`** and **`new_height`**, which will be float values.  These numbers are in \"inches.\"\n",
    "\n",
    "```python\n",
    "fig_size = plt.rcParams['figure.figsize']\n",
    "fig_size[0]=new_width\n",
    "fig_size[1]=new_height\n",
    "plt.rcParams['figure.figsize']=fig_size\n",
    "```\n",
    "\n",
    "**Note:** This line of code will change all subsequent graphs, meaning every graph after this line of code is run will have the same size.  If you want to change it back to the default, use 6.0 for the width and 4.0 for the height.\n",
    "\n",
    "The sample code below shows where to put this particular line to change the size of the graph to have a width of 9inches and a height of 7 inches\n",
    "\n",
    "```python\n",
    "\n",
    "# These 4 lines of code are what you need to add to change the dimensions of the output graph\n",
    "fig_size = plt.rcParams['figure.figsize']\n",
    "fig_size[0]=9\n",
    "fig_size[1]=7\n",
    "plt.rcParams['figure.figsize']=fig_size\n",
    "\n",
    "plt.rc('axes',edgecolor='green', linewidth = 2.0)\n",
    "plt.rcParams['axes.facecolor'] = 'blue'\n",
    "\n",
    "\n",
    "loma_prieta_alpha.plot(x = 'ms', y = 'x', color = 'green')\n",
    "plt.xlabel ('This is the x-axis', color = 'red')\n",
    "plt.ylabel ('This is the y-axis', color = 'red')\n",
    "plt.title ('This is a title', color = 'blue')\n",
    "plt.xlim(0,10)\n",
    "plt.ylim(0,100)\n",
    "plt.xticks(np.arange(0, 11, 2 ))\n",
    "plt.yticks(np.arange(0, 101, 20 ))\n",
    "plt.show()\n",
    "```"
   ]
  },
  {
   "cell_type": "markdown",
   "metadata": {},
   "source": [
    "## <span style=\"color:mediumorchid\">Annotating with an Arrow</span>\n",
    "\n",
    "This would be considered \"extra fancy\", but if you wanted to add a note about a specific part of your graph, like point out the maximum value, you can with the **`plt.annotate()`** function.\n",
    "\n",
    "```python\n",
    "plt.annotate('text you want', xy=(____), xytext=(____), arrowprops=dict(facecolor='black', shrink=0.05))\n",
    "```\n",
    "\n",
    "Inside **`xy = (_____)`** you place the ordered pair you want the arrow to point to\n",
    "Inside **`xytext = (_____)`** you place the ordered pair you want your text to start.\n",
    "\n",
    "This text would go anywhere in between the **`.plot()`** function and the **`plt.show()`**.\n",
    "\n",
    "You can change the color of the text by adding that parameter within the parentheses.  If you want to change the color of the arrow, change 'black' to whatever color you want."
   ]
  },
  {
   "cell_type": "code",
   "execution_count": null,
   "metadata": {},
   "outputs": [],
   "source": []
  }
 ],
 "metadata": {
  "kernelspec": {
   "display_name": "Python 3",
   "language": "python",
   "name": "python3"
  },
  "language_info": {
   "codemirror_mode": {
    "name": "ipython",
    "version": 3
   },
   "file_extension": ".py",
   "mimetype": "text/x-python",
   "name": "python",
   "nbconvert_exporter": "python",
   "pygments_lexer": "ipython3",
   "version": "3.7.3"
  }
 },
 "nbformat": 4,
 "nbformat_minor": 1
}
