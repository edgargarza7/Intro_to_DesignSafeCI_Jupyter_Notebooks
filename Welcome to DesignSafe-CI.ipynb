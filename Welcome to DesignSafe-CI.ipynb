{
 "cells": [
  {
   "cell_type": "markdown",
   "metadata": {},
   "source": [
    "# Activity: What do you know about DesignSafe-CI?\n",
    "\n",
    "Now that you have been presented with information about DesignSafe-CI and its purpose, you should be able to navigate around the website and answer some questions.\n",
    "\n",
    "Below you will see two type of cells:\n",
    "\n",
    "1. Question Cells: Contains the question to be answered.\n",
    "2. Answer Cells: Where you will type your answers."
   ]
  },
  {
   "cell_type": "markdown",
   "metadata": {},
   "source": [
    "## Question 1:\n",
    "\n",
    "Give three examples of natural hazards, then describe the difference between a natural hazard and a natural disaster?"
   ]
  },
  {
   "cell_type": "markdown",
   "metadata": {},
   "source": [
    "## Answer:\n",
    "\n",
    "Natural Hazard 1:\n",
    "\n",
    "Natural Hazard 2:\n",
    "\n",
    "Natural Hazard 3:\n",
    "\n",
    "\n"
   ]
  },
  {
   "cell_type": "markdown",
   "metadata": {},
   "source": [
    "## Question 2:\n",
    "\n",
    "Aside from you, who is the only other type of individual(s) that can create a DesignSafe-Ci user account, and why would they need a user account?"
   ]
  },
  {
   "cell_type": "markdown",
   "metadata": {},
   "source": [
    "## Answer:\n",
    "\n"
   ]
  },
  {
   "cell_type": "markdown",
   "metadata": {},
   "source": [
    "## The Data Depot is where you can keep your data, your projects, view published data, and collaborate via community data.\n",
    "\n",
    "\n",
    "## Question 3:\n",
    "\n",
    "Locate a published simulation publication with the following keyword(s) <i><font color='#138D75'>\"Hurricane Maria 2017, storm surge, ADCIRC+SWAN forecast, ADCIRC Surge Guidance System\"</i> and fill in the following blanks."
   ]
  },
  {
   "cell_type": "markdown",
   "metadata": {},
   "source": [
    "## Answer:\n",
    "\n",
    "Publication Title:\n",
    "\n",
    "Author:\n",
    "\n",
    "Date of Publication:\n",
    "\n",
    "Publication Description (in your own words):"
   ]
  },
  {
   "cell_type": "markdown",
   "metadata": {},
   "source": [
    "## Question 4:\n",
    "\n",
    "Locate a published experimental publication from the following author(s) <i><font color='#138D75'>\"Gan Chowdhury, Arindam\"</i> and fill in the following blanks."
   ]
  },
  {
   "cell_type": "markdown",
   "metadata": {},
   "source": [
    "## Answer:\n",
    "\n",
    "Publication Title:\n",
    "\n",
    "Keywords:\n",
    "\n",
    "Date of Publication:\n",
    "\n",
    "Publication Description (in your own words):"
   ]
  },
  {
   "cell_type": "markdown",
   "metadata": {},
   "source": [
    "## Question 5:\n",
    "\n",
    "Visit your Workspace page and identify two (2) different types of applications avaialble to users. Provide a a short description in your own words."
   ]
  },
  {
   "cell_type": "markdown",
   "metadata": {},
   "source": [
    "## Answer:\n",
    "\n",
    "Application 1:\n",
    "\n",
    "Application 2:"
   ]
  },
  {
   "cell_type": "markdown",
   "metadata": {},
   "source": [
    "## Question 6:\n",
    "\n",
    "DesignSafe-CI is the cyberinfrastructure that combines the work of researchers and experimental facilities.\n",
    "\n",
    "Identify two (2) experimental facilities and their research focus."
   ]
  },
  {
   "cell_type": "markdown",
   "metadata": {},
   "source": [
    "## Answer:\n",
    "\n",
    "Experimental Facility:\n",
    "\n",
    "Experimental Facility:"
   ]
  },
  {
   "cell_type": "markdown",
   "metadata": {},
   "source": [
    "## Question 7:\n",
    "\n",
    "The Recon Portal provides an interactive world map displaying natural hazard events with associated datasets.\n",
    "\n",
    "Identify two (2) natural hazard events and list atleast two (2) datasets."
   ]
  },
  {
   "cell_type": "markdown",
   "metadata": {},
   "source": [
    "## Answer:\n",
    "\n",
    "Event 1:\n",
    "\n",
    "Datasets 1:\n",
    "\n",
    "Event 2:\n",
    "\n",
    "Datasets 2:"
   ]
  }
 ],
 "metadata": {
  "kernelspec": {
   "display_name": "Python 3",
   "language": "python",
   "name": "python3"
  },
  "language_info": {
   "codemirror_mode": {
    "name": "ipython",
    "version": 3
   },
   "file_extension": ".py",
   "mimetype": "text/x-python",
   "name": "python",
   "nbconvert_exporter": "python",
   "pygments_lexer": "ipython3",
   "version": "3.7.3"
  }
 },
 "nbformat": 4,
 "nbformat_minor": 2
}
